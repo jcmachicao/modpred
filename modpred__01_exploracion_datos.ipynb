{
  "nbformat": 4,
  "nbformat_minor": 0,
  "metadata": {
    "colab": {
      "name": "modpred__01.ipynb",
      "provenance": [],
      "toc_visible": true,
      "mount_file_id": "1Ywwfgdws4eEm392EsOpDcw2g3mH3IyPM",
      "authorship_tag": "ABX9TyMWLbH37oiO349N4naElYDK",
      "include_colab_link": true
    },
    "kernelspec": {
      "name": "python3",
      "display_name": "Python 3"
    }
  },
  "cells": [
    {
      "cell_type": "markdown",
      "metadata": {
        "id": "view-in-github",
        "colab_type": "text"
      },
      "source": [
        "<a href=\"https://colab.research.google.com/github/jcmachicao/uc_curso_modelamientopredictivo/blob/master/modpred__01.ipynb\" target=\"_parent\"><img src=\"https://colab.research.google.com/assets/colab-badge.svg\" alt=\"Open In Colab\"/></a>"
      ]
    },
    {
      "cell_type": "markdown",
      "metadata": {
        "id": "yg9Q9HZ7KQxe"
      },
      "source": [
        "#### Cuaderno 01\n",
        "# **Curso Modelamiento Predictivo**\n",
        "---\n",
        "* Tema Principal: Introducción al manejo de bases de datos con Python\n",
        "* Autor: José Carlos Machicao\n",
        "* Licencia: [GestioDinámica](http://www.gestiodinamica.com) 2020\n"
      ]
    },
    {
      "cell_type": "markdown",
      "metadata": {
        "id": "B26euJKsNP68"
      },
      "source": [
        "## Librerías externas necesarias"
      ]
    },
    {
      "cell_type": "code",
      "metadata": {
        "id": "Szi61mHXNTJ2"
      },
      "source": [
        "import pandas as pd\n",
        "import numpy as np\n",
        "import matplotlib.pyplot as plt"
      ],
      "execution_count": null,
      "outputs": []
    },
    {
      "cell_type": "markdown",
      "metadata": {
        "id": "ASYnymx7NFBg"
      },
      "source": [
        "## Cómo cargar una base de datos"
      ]
    },
    {
      "cell_type": "markdown",
      "metadata": {
        "id": "fF11F-uiVOhB"
      },
      "source": [
        "* Recuerde activar el ícono Google Drive Mount"
      ]
    },
    {
      "cell_type": "code",
      "metadata": {
        "id": "s1vpFKxaUwqD"
      },
      "source": [
        "ruta = 'drive/My Drive/2020 Cursos/2020 Modelamiento Predictivo/'"
      ],
      "execution_count": null,
      "outputs": []
    },
    {
      "cell_type": "code",
      "metadata": {
        "id": "NRgAostfKJOR",
        "outputId": "0389a271-41f9-49a7-ac34-c7018e83f8ea",
        "colab": {
          "base_uri": "https://localhost:8080/",
          "height": 197
        }
      },
      "source": [
        "data = pd.read_excel(ruta + 'uc__pnp__ejemplo_100.xlsx')\n",
        "data.head()"
      ],
      "execution_count": null,
      "outputs": [
        {
          "output_type": "execute_result",
          "data": {
            "text/html": [
              "<div>\n",
              "<style scoped>\n",
              "    .dataframe tbody tr th:only-of-type {\n",
              "        vertical-align: middle;\n",
              "    }\n",
              "\n",
              "    .dataframe tbody tr th {\n",
              "        vertical-align: top;\n",
              "    }\n",
              "\n",
              "    .dataframe thead th {\n",
              "        text-align: right;\n",
              "    }\n",
              "</style>\n",
              "<table border=\"1\" class=\"dataframe\">\n",
              "  <thead>\n",
              "    <tr style=\"text-align: right;\">\n",
              "      <th></th>\n",
              "      <th>hora</th>\n",
              "      <th>sexo</th>\n",
              "      <th>edad</th>\n",
              "      <th>canal</th>\n",
              "      <th>tipo</th>\n",
              "    </tr>\n",
              "  </thead>\n",
              "  <tbody>\n",
              "    <tr>\n",
              "      <th>0</th>\n",
              "      <td>0</td>\n",
              "      <td>Masculino</td>\n",
              "      <td>24</td>\n",
              "      <td>teléfono</td>\n",
              "      <td>robo</td>\n",
              "    </tr>\n",
              "    <tr>\n",
              "      <th>1</th>\n",
              "      <td>23</td>\n",
              "      <td>Femenino</td>\n",
              "      <td>59</td>\n",
              "      <td>efectivo</td>\n",
              "      <td>robo</td>\n",
              "    </tr>\n",
              "    <tr>\n",
              "      <th>2</th>\n",
              "      <td>9</td>\n",
              "      <td>Femenino</td>\n",
              "      <td>71</td>\n",
              "      <td>personal</td>\n",
              "      <td>violencia</td>\n",
              "    </tr>\n",
              "    <tr>\n",
              "      <th>3</th>\n",
              "      <td>24</td>\n",
              "      <td>Masculino</td>\n",
              "      <td>23</td>\n",
              "      <td>formulario web</td>\n",
              "      <td>infracción</td>\n",
              "    </tr>\n",
              "    <tr>\n",
              "      <th>4</th>\n",
              "      <td>13</td>\n",
              "      <td>Masculino</td>\n",
              "      <td>40</td>\n",
              "      <td>personal</td>\n",
              "      <td>infracción</td>\n",
              "    </tr>\n",
              "  </tbody>\n",
              "</table>\n",
              "</div>"
            ],
            "text/plain": [
              "   hora       sexo  edad           canal        tipo\n",
              "0     0  Masculino    24        teléfono        robo\n",
              "1    23   Femenino    59        efectivo        robo\n",
              "2     9   Femenino    71        personal   violencia\n",
              "3    24  Masculino    23  formulario web  infracción\n",
              "4    13  Masculino    40        personal  infracción"
            ]
          },
          "metadata": {
            "tags": []
          },
          "execution_count": 79
        }
      ]
    },
    {
      "cell_type": "markdown",
      "metadata": {
        "id": "xEmCU_17Xc99"
      },
      "source": [
        "## Cómo analizar la composición general de la base de datos"
      ]
    },
    {
      "cell_type": "code",
      "metadata": {
        "id": "iPhwsu9GZ8Xz",
        "outputId": "cbac6f1b-dc92-4bda-db58-b60025292019",
        "colab": {
          "base_uri": "https://localhost:8080/",
          "height": 230
        }
      },
      "source": [
        "data.info()"
      ],
      "execution_count": null,
      "outputs": [
        {
          "output_type": "stream",
          "text": [
            "<class 'pandas.core.frame.DataFrame'>\n",
            "RangeIndex: 50 entries, 0 to 49\n",
            "Data columns (total 5 columns):\n",
            " #   Column  Non-Null Count  Dtype \n",
            "---  ------  --------------  ----- \n",
            " 0   hora    50 non-null     int64 \n",
            " 1   sexo    50 non-null     object\n",
            " 2   edad    50 non-null     int64 \n",
            " 3   canal   50 non-null     object\n",
            " 4   tipo    50 non-null     object\n",
            "dtypes: int64(2), object(3)\n",
            "memory usage: 2.1+ KB\n"
          ],
          "name": "stdout"
        }
      ]
    },
    {
      "cell_type": "code",
      "metadata": {
        "id": "XQypZ49xXqhQ",
        "outputId": "564a135f-284c-4dbc-c793-42a9292cd066",
        "colab": {
          "base_uri": "https://localhost:8080/",
          "height": 34
        }
      },
      "source": [
        "data.columns"
      ],
      "execution_count": null,
      "outputs": [
        {
          "output_type": "execute_result",
          "data": {
            "text/plain": [
              "Index(['hora', 'sexo', 'edad', 'canal', 'tipo'], dtype='object')"
            ]
          },
          "metadata": {
            "tags": []
          },
          "execution_count": 81
        }
      ]
    },
    {
      "cell_type": "code",
      "metadata": {
        "id": "WTUT3laqZQdV"
      },
      "source": [
        "# define la columna que quiere analizar\n",
        "columna = 'tipo'"
      ],
      "execution_count": null,
      "outputs": []
    },
    {
      "cell_type": "code",
      "metadata": {
        "id": "NOOl5KF1XTf_",
        "outputId": "75d57565-ee9d-408b-f062-e1359bf889f4",
        "colab": {
          "base_uri": "https://localhost:8080/",
          "height": 412
        }
      },
      "source": [
        "plt.figure(figsize=(10, 6), facecolor='lightblue')\n",
        "plt.hist(data[columna], bins=20)\n",
        "\n",
        "# características gráficas\n",
        "plt.xlabel(columna, fontsize=14)\n",
        "plt.ylabel('Cantidad', fontsize=14)\n",
        "plt.title('Reporte de Distribución de Casos', fontsize=16)\n",
        "plt.show()"
      ],
      "execution_count": null,
      "outputs": [
        {
          "output_type": "display_data",
          "data": {
            "image/png": "[encoded data removed]",
            "text/plain": [
              "<Figure size 720x432 with 1 Axes>"
            ]
          },
          "metadata": {
            "tags": []
          }
        }
      ]
    },
    {
      "cell_type": "markdown",
      "metadata": {
        "id": "K8ZY_ltIlLaO"
      },
      "source": [
        "## Exploración con dos variables numéricas"
      ]
    },
    {
      "cell_type": "code",
      "metadata": {
        "id": "p6U4aXLwlTtQ",
        "outputId": "d9a4e7e9-fae7-4a9e-f36d-35e5dd353a57",
        "colab": {
          "base_uri": "https://localhost:8080/",
          "height": 230
        }
      },
      "source": [
        "# aquí se puede elegir mejor sabiendo que son variables numéricas\n",
        "data.info()"
      ],
      "execution_count": null,
      "outputs": [
        {
          "output_type": "stream",
          "text": [
            "<class 'pandas.core.frame.DataFrame'>\n",
            "RangeIndex: 50 entries, 0 to 49\n",
            "Data columns (total 5 columns):\n",
            " #   Column  Non-Null Count  Dtype \n",
            "---  ------  --------------  ----- \n",
            " 0   hora    50 non-null     int64 \n",
            " 1   sexo    50 non-null     object\n",
            " 2   edad    50 non-null     int64 \n",
            " 3   canal   50 non-null     object\n",
            " 4   tipo    50 non-null     object\n",
            "dtypes: int64(2), object(3)\n",
            "memory usage: 2.1+ KB\n"
          ],
          "name": "stdout"
        }
      ]
    },
    {
      "cell_type": "code",
      "metadata": {
        "id": "lFmoyZyVlCW3",
        "outputId": "0d8ca1f0-30e6-4478-829d-e6f17bbf63d8",
        "colab": {
          "base_uri": "https://localhost:8080/",
          "height": 197
        }
      },
      "source": [
        "data100 = data[['hora', 'edad', 'sexo', 'canal', 'tipo']]\n",
        "data100.head()"
      ],
      "execution_count": null,
      "outputs": [
        {
          "output_type": "execute_result",
          "data": {
            "text/html": [
              "<div>\n",
              "<style scoped>\n",
              "    .dataframe tbody tr th:only-of-type {\n",
              "        vertical-align: middle;\n",
              "    }\n",
              "\n",
              "    .dataframe tbody tr th {\n",
              "        vertical-align: top;\n",
              "    }\n",
              "\n",
              "    .dataframe thead th {\n",
              "        text-align: right;\n",
              "    }\n",
              "</style>\n",
              "<table border=\"1\" class=\"dataframe\">\n",
              "  <thead>\n",
              "    <tr style=\"text-align: right;\">\n",
              "      <th></th>\n",
              "      <th>hora</th>\n",
              "      <th>edad</th>\n",
              "      <th>sexo</th>\n",
              "      <th>canal</th>\n",
              "      <th>tipo</th>\n",
              "    </tr>\n",
              "  </thead>\n",
              "  <tbody>\n",
              "    <tr>\n",
              "      <th>0</th>\n",
              "      <td>0</td>\n",
              "      <td>24</td>\n",
              "      <td>Masculino</td>\n",
              "      <td>teléfono</td>\n",
              "      <td>robo</td>\n",
              "    </tr>\n",
              "    <tr>\n",
              "      <th>1</th>\n",
              "      <td>23</td>\n",
              "      <td>59</td>\n",
              "      <td>Femenino</td>\n",
              "      <td>efectivo</td>\n",
              "      <td>robo</td>\n",
              "    </tr>\n",
              "    <tr>\n",
              "      <th>2</th>\n",
              "      <td>9</td>\n",
              "      <td>71</td>\n",
              "      <td>Femenino</td>\n",
              "      <td>personal</td>\n",
              "      <td>violencia</td>\n",
              "    </tr>\n",
              "    <tr>\n",
              "      <th>3</th>\n",
              "      <td>24</td>\n",
              "      <td>23</td>\n",
              "      <td>Masculino</td>\n",
              "      <td>formulario web</td>\n",
              "      <td>infracción</td>\n",
              "    </tr>\n",
              "    <tr>\n",
              "      <th>4</th>\n",
              "      <td>13</td>\n",
              "      <td>40</td>\n",
              "      <td>Masculino</td>\n",
              "      <td>personal</td>\n",
              "      <td>infracción</td>\n",
              "    </tr>\n",
              "  </tbody>\n",
              "</table>\n",
              "</div>"
            ],
            "text/plain": [
              "   hora  edad       sexo           canal        tipo\n",
              "0     0    24  Masculino        teléfono        robo\n",
              "1    23    59   Femenino        efectivo        robo\n",
              "2     9    71   Femenino        personal   violencia\n",
              "3    24    23  Masculino  formulario web  infracción\n",
              "4    13    40  Masculino        personal  infracción"
            ]
          },
          "metadata": {
            "tags": []
          },
          "execution_count": 85
        }
      ]
    },
    {
      "cell_type": "code",
      "metadata": {
        "id": "zHt86_ypmHqu",
        "outputId": "fbbc7667-b6b4-478e-8449-c7d97cdd9932",
        "colab": {
          "base_uri": "https://localhost:8080/",
          "height": 411
        }
      },
      "source": [
        "columna = 'tipo'\n",
        "\n",
        "plt.figure(figsize=(10, 6), facecolor='lightblue')\n",
        "\n",
        "for item in data100[columna].unique():\n",
        "  data200 = data100[data100[columna] == item]\n",
        "  plt.scatter(data200.hora, data200.edad, s=100, label=item)\n",
        "\n",
        "# características gráficas\n",
        "plt.xlabel(data200.columns[0], fontsize=14)\n",
        "plt.ylabel(data200.columns[1], fontsize=14)\n",
        "plt.legend()\n",
        "plt.title('Reporte de Distribución de Casos', fontsize=16)\n",
        "plt.show()"
      ],
      "execution_count": null,
      "outputs": [
        {
          "output_type": "display_data",
          "data": {
            "image/png": "[encoded data removed]",
            "text/plain": [
              "<Figure size 720x432 with 1 Axes>"
            ]
          },
          "metadata": {
            "tags": []
          }
        }
      ]
    },
    {
      "cell_type": "code",
      "metadata": {
        "id": "jaIMhBZdnQzf"
      },
      "source": [
        ""
      ],
      "execution_count": null,
      "outputs": []
    }
  ]
}
