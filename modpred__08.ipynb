{
  "nbformat": 4,
  "nbformat_minor": 0,
  "metadata": {
    "colab": {
      "name": "modpred__08.ipynb",
      "provenance": [],
      "toc_visible": true,
      "mount_file_id": "1Xxa4Ov_sAB9w1F9kaeCB2ayw8r_tb49M",
      "authorship_tag": "ABX9TyMWbFD7cm4nbUiVopHt8n+U",
      "include_colab_link": true
    },
    "kernelspec": {
      "name": "python3",
      "display_name": "Python 3"
    },
    "accelerator": "GPU"
  },
  "cells": [
    {
      "cell_type": "markdown",
      "metadata": {
        "id": "view-in-github",
        "colab_type": "text"
      },
      "source": [
        "<a href=\"https://colab.research.google.com/github/jcmachicao/uc_curso_modelamientopredictivo/blob/master/modpred__08.ipynb\" target=\"_parent\"><img src=\"https://colab.research.google.com/assets/colab-badge.svg\" alt=\"Open In Colab\"/></a>"
      ]
    },
    {
      "cell_type": "markdown",
      "metadata": {
        "id": "y-0NM5pn3Kyo"
      },
      "source": [
        "#**8**\n",
        "#### Cuaderno 08\n",
        "# **Curso Modelamiento Predictivo**\n",
        "---\n",
        "### **Introducción a Redes Neuronales**\n",
        "* Autor: José Carlos Machicao\n",
        "* Licencia: [GestioDinámica](http://www.gestiodinamica.com) 2020"
      ]
    },
    {
      "cell_type": "markdown",
      "metadata": {
        "id": "G4luqjK73TUj"
      },
      "source": [
        "[Tensorflow Playground](https://playground.tensorflow.org)"
      ]
    },
    {
      "cell_type": "code",
      "metadata": {
        "id": "wk9oQvf8YuqM"
      },
      "source": [
        "import torch\n",
        "import torch.nn as nn\n",
        "import pandas as pd\n",
        "import numpy as np\n",
        "import sklearn\n",
        "import matplotlib.pyplot as plt "
      ],
      "execution_count": null,
      "outputs": []
    },
    {
      "cell_type": "code",
      "metadata": {
        "id": "YZdtPvFwZluh"
      },
      "source": [
        "ruta = 'drive/My Drive/2020 Proyectos/salud riesgos/'"
      ],
      "execution_count": null,
      "outputs": []
    },
    {
      "cell_type": "code",
      "metadata": {
        "id": "nd37Ij5MZK8C",
        "outputId": "52628058-1641-4ed3-bdbb-1f1460c9828b",
        "colab": {
          "base_uri": "https://localhost:8080/",
          "height": 191
        }
      },
      "source": [
        "dataset = pd.read_excel(ruta + 'muestra_datos_X.xlsx', sheet_name='datos_2')\n",
        "#dataset = pd.read_excel(ruta + 'muestra_datos_X.xlsx', sheet_name='datos_2')\n",
        "#dataset = pd.read_excel(ruta + 'ml4asys_corona.xlsx')\n",
        "dataset.head()"
      ],
      "execution_count": null,
      "outputs": [
        {
          "output_type": "execute_result",
          "data": {
            "text/html": [
              "<div>\n",
              "<style scoped>\n",
              "    .dataframe tbody tr th:only-of-type {\n",
              "        vertical-align: middle;\n",
              "    }\n",
              "\n",
              "    .dataframe tbody tr th {\n",
              "        vertical-align: top;\n",
              "    }\n",
              "\n",
              "    .dataframe thead th {\n",
              "        text-align: right;\n",
              "    }\n",
              "</style>\n",
              "<table border=\"1\" class=\"dataframe\">\n",
              "  <thead>\n",
              "    <tr style=\"text-align: right;\">\n",
              "      <th></th>\n",
              "      <th>entrada</th>\n",
              "      <th>salida</th>\n",
              "    </tr>\n",
              "  </thead>\n",
              "  <tbody>\n",
              "    <tr>\n",
              "      <th>0</th>\n",
              "      <td>0.902866</td>\n",
              "      <td>0.820970</td>\n",
              "    </tr>\n",
              "    <tr>\n",
              "      <th>1</th>\n",
              "      <td>0.148933</td>\n",
              "      <td>-0.129064</td>\n",
              "    </tr>\n",
              "    <tr>\n",
              "      <th>2</th>\n",
              "      <td>0.616892</td>\n",
              "      <td>0.329127</td>\n",
              "    </tr>\n",
              "    <tr>\n",
              "      <th>3</th>\n",
              "      <td>3.529468</td>\n",
              "      <td>-0.454436</td>\n",
              "    </tr>\n",
              "    <tr>\n",
              "      <th>4</th>\n",
              "      <td>4.209843</td>\n",
              "      <td>-1.232120</td>\n",
              "    </tr>\n",
              "  </tbody>\n",
              "</table>\n",
              "</div>"
            ],
            "text/plain": [
              "    entrada    salida\n",
              "0  0.902866  0.820970\n",
              "1  0.148933 -0.129064\n",
              "2  0.616892  0.329127\n",
              "3  3.529468 -0.454436\n",
              "4  4.209843 -1.232120"
            ]
          },
          "metadata": {
            "tags": []
          },
          "execution_count": 3
        }
      ]
    },
    {
      "cell_type": "code",
      "metadata": {
        "id": "BQ_ndasP_99X"
      },
      "source": [
        "lcol = len(dataset.columns)"
      ],
      "execution_count": null,
      "outputs": []
    },
    {
      "cell_type": "code",
      "metadata": {
        "id": "VEeEy7c3d_mb"
      },
      "source": [
        "from sklearn.preprocessing import normalize"
      ],
      "execution_count": null,
      "outputs": []
    },
    {
      "cell_type": "code",
      "metadata": {
        "id": "L48Nyzjx_ho_"
      },
      "source": [
        "data = normalize(np.array(dataset), axis=0)"
      ],
      "execution_count": null,
      "outputs": []
    },
    {
      "cell_type": "code",
      "metadata": {
        "id": "_KQmGkVdiUnW"
      },
      "source": [
        "data_X = np.array(data[:,0:lcol-1]).astype(np.float32)\n",
        "data_y = np.array(data[:,-1]).reshape(-1, 1).astype(np.float32)"
      ],
      "execution_count": null,
      "outputs": []
    },
    {
      "cell_type": "code",
      "metadata": {
        "id": "pGUlGFsqhDsx"
      },
      "source": [
        "X_np = data_X\n",
        "y_np = data_y\n",
        "X = torch.from_numpy(X_np)\n",
        "y = torch.from_numpy(y_np.reshape(-1, 1))"
      ],
      "execution_count": null,
      "outputs": []
    },
    {
      "cell_type": "code",
      "metadata": {
        "id": "36yHZzEROsDq"
      },
      "source": [
        "from sklearn.linear_model import LinearRegression, BayesianRidge\n",
        "from sklearn.naive_bayes import GaussianNB"
      ],
      "execution_count": null,
      "outputs": []
    },
    {
      "cell_type": "code",
      "metadata": {
        "id": "lgJqg3AKPSQy",
        "outputId": "b9c4a29b-1a78-498c-d3ac-fc7a5d49b490",
        "colab": {
          "base_uri": "https://localhost:8080/",
          "height": 70
        }
      },
      "source": [
        "lm = LinearRegression()\n",
        "mlm = lm.fit(X_np, y_np)\n",
        "nb = BayesianRidge()\n",
        "mnb = nb.fit(X_np, y_np)"
      ],
      "execution_count": null,
      "outputs": [
        {
          "output_type": "stream",
          "text": [
            "/usr/local/lib/python3.6/dist-packages/sklearn/utils/validation.py:760: DataConversionWarning: A column-vector y was passed when a 1d array was expected. Please change the shape of y to (n_samples, ), for example using ravel().\n",
            "  y = column_or_1d(y, warn=True)\n"
          ],
          "name": "stderr"
        }
      ]
    },
    {
      "cell_type": "code",
      "metadata": {
        "id": "WxIWRRCnQ8xO"
      },
      "source": [
        "pred_lm = mlm.predict(X_np)\n",
        "pred_nb = mnb.predict(X_np)"
      ],
      "execution_count": null,
      "outputs": []
    },
    {
      "cell_type": "code",
      "metadata": {
        "id": "Odvvlkwo4o5O",
        "outputId": "b3ec1a44-1aec-4613-aaa5-c67b862ed19e",
        "colab": {
          "base_uri": "https://localhost:8080/",
          "height": 33
        }
      },
      "source": [
        "len(X_np), len(pred_lm)"
      ],
      "execution_count": null,
      "outputs": [
        {
          "output_type": "execute_result",
          "data": {
            "text/plain": [
              "(100, 100)"
            ]
          },
          "metadata": {
            "tags": []
          },
          "execution_count": 12
        }
      ]
    },
    {
      "cell_type": "code",
      "metadata": {
        "id": "qb5UAieh5ooj",
        "outputId": "6d344dd5-dc16-472b-9d10-27454bf2a425",
        "colab": {
          "base_uri": "https://localhost:8080/",
          "height": 33
        }
      },
      "source": [
        "mlm.coef_"
      ],
      "execution_count": null,
      "outputs": [
        {
          "output_type": "execute_result",
          "data": {
            "text/plain": [
              "array([[-1.5917127]], dtype=float32)"
            ]
          },
          "metadata": {
            "tags": []
          },
          "execution_count": 13
        }
      ]
    },
    {
      "cell_type": "code",
      "metadata": {
        "id": "6sc4e4uKpnDJ",
        "outputId": "3a208036-bc6d-46a3-f6a6-31f605cc5844",
        "colab": {
          "base_uri": "https://localhost:8080/",
          "height": 33
        }
      },
      "source": [
        "X.shape, y.shape"
      ],
      "execution_count": null,
      "outputs": [
        {
          "output_type": "execute_result",
          "data": {
            "text/plain": [
              "(torch.Size([100, 1]), torch.Size([100, 1]))"
            ]
          },
          "metadata": {
            "tags": []
          },
          "execution_count": 14
        }
      ]
    },
    {
      "cell_type": "code",
      "metadata": {
        "id": "KkjKGRwDpniJ",
        "outputId": "757d2ee4-9b88-4d20-b447-e6ba9d63d8db",
        "colab": {
          "base_uri": "https://localhost:8080/",
          "height": 33
        }
      },
      "source": [
        "max(X), min(X), max(y), min(y)"
      ],
      "execution_count": null,
      "outputs": [
        {
          "output_type": "execute_result",
          "data": {
            "text/plain": [
              "(tensor([0.1687]), tensor([0.0003]), tensor([0.1514]), tensor([-0.1944]))"
            ]
          },
          "metadata": {
            "tags": []
          },
          "execution_count": 15
        }
      ]
    },
    {
      "cell_type": "code",
      "metadata": {
        "id": "eDvHpU6ypXmN"
      },
      "source": [
        "model = nn.Sequential(\n",
        "  nn.Linear(lcol-1, len(dataset)),\n",
        "  nn.ReLU(),\n",
        "  nn.Linear(len(dataset), 100),\n",
        "  nn.ReLU(),\n",
        "  nn.Linear(100, 100),\n",
        "  nn.ReLU(),\n",
        "  nn.Linear(100, 100),\n",
        "  nn.ReLU(),\n",
        "  nn.Linear(100, 10),\n",
        "  nn.ReLU(),\n",
        "  nn.Linear(10, 1)\n",
        ")\n",
        "criterio = nn.MSELoss()\n",
        "optimizador = torch.optim.SGD(model.parameters(), lr=0.01)"
      ],
      "execution_count": null,
      "outputs": []
    },
    {
      "cell_type": "code",
      "metadata": {
        "id": "4-TCPnUJqN5s",
        "outputId": "12357a70-f30b-41ae-ea56-cb3035b34719",
        "colab": {
          "base_uri": "https://localhost:8080/",
          "height": 180
        }
      },
      "source": [
        "preds = []\n",
        "for epo in range(100000):\n",
        "  y_pred = model(X)\n",
        "  loss = criterio(y_pred, y)\n",
        "  loss.backward()\n",
        "  optimizador.step()\n",
        "  optimizador.zero_grad()\n",
        "  if epo % 10000 == 0:\n",
        "    print(epo, loss.item())\n",
        "    pred = y_pred.detach().numpy()\n",
        "    #print(pred.T)\n",
        "    preds.append(pred)"
      ],
      "execution_count": null,
      "outputs": [
        {
          "output_type": "stream",
          "text": [
            "0 0.02322915755212307\n",
            "10000 0.009838590398430824\n",
            "20000 0.009068307466804981\n",
            "30000 0.00257490505464375\n",
            "40000 0.00188864441588521\n",
            "50000 0.0015993356937542558\n",
            "60000 0.0013463282957673073\n",
            "70000 0.0011263024061918259\n",
            "80000 0.0009423699812032282\n",
            "90000 0.0008060190011747181\n"
          ],
          "name": "stdout"
        }
      ]
    },
    {
      "cell_type": "code",
      "metadata": {
        "id": "c4zPyndzQLdO",
        "cellView": "form",
        "outputId": "3c264d31-44e8-43c4-bff1-c788bff0db4a",
        "colab": {
          "base_uri": "https://localhost:8080/",
          "height": 613
        }
      },
      "source": [
        "#@title Gráfica\n",
        "plt.figure(figsize=(10,10), facecolor='lightgray')\n",
        "jitter=0.0005\n",
        "\n",
        "plt.plot(y_np, pred_nb, 'go', ms=8, label='Naive Bayes')\n",
        "plt.plot(y_np, pred, 'bo', ms=8, label='Red Neuronal')\n",
        "plt.plot(y_np, pred_lm, 'ro', ms=8, label='Regresión Lineal')\n",
        "plt.plot([-1,1], [-1, 1], 'b:', lw=4)\n",
        "\n",
        "plt.title('Comparación entre Modelos Predictivos', fontsize=20)\n",
        "plt.legend(loc='best', fontsize=14)\n",
        "plt.xlim(-0.2,0.15)\n",
        "plt.ylim(-0.2,0.15)\n",
        "#plt.text(1,1, 'GestioDinámica 2020')\n",
        "plt.show()"
      ],
      "execution_count": null,
      "outputs": [
        {
          "output_type": "display_data",
          "data": {
            "image/png": "[encoded data removed]",
            "text/plain": [
              "<Figure size 720x720 with 1 Axes>"
            ]
          },
          "metadata": {
            "tags": []
          }
        }
      ]
    },
    {
      "cell_type": "markdown",
      "metadata": {
        "id": "iYOmsiqS_zoV"
      },
      "source": [
        "### Referencias\n",
        "https://medium.com/@benjamin.phillips22/simple-regression-with-neural-networks-in-pytorch-313f06910379\n"
      ]
    }
  ]
}