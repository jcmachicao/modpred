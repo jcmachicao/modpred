{
  "nbformat": 4,
  "nbformat_minor": 0,
  "metadata": {
    "colab": {
      "name": "modpred__08.ipynb",
      "provenance": [],
      "mount_file_id": "https://github.com/jcmachicao/uc_curso_modelamientopredictivo/blob/master/modpred__08.ipynb",
      "authorship_tag": "ABX9TyOO5NOd6GqE4isKo4uGUr41",
      "include_colab_link": true
    },
    "kernelspec": {
      "name": "python3",
      "display_name": "Python 3"
    },
    "accelerator": "GPU"
  },
  "cells": [
    {
      "cell_type": "markdown",
      "metadata": {
        "id": "view-in-github",
        "colab_type": "text"
      },
      "source": [
        "<a href=\"https://colab.research.google.com/github/jcmachicao/modpred/blob/master/modpred__08.ipynb\" target=\"_parent\"><img src=\"https://colab.research.google.com/assets/colab-badge.svg\" alt=\"Open In Colab\"/></a>"
      ]
    },
    {
      "cell_type": "markdown",
      "metadata": {
        "id": "y-0NM5pn3Kyo"
      },
      "source": [
        "#**8**\n",
        "#### Cuaderno 08\n",
        "# **Curso Modelamiento Predictivo**\n",
        "---\n",
        "### **Introducción a Redes Neuronales**\n",
        "* Autor: José Carlos Machicao\n",
        "* Licencia: [GestioDinámica](http://www.gestiodinamica.com) 2020"
      ]
    },
    {
      "cell_type": "markdown",
      "metadata": {
        "id": "G4luqjK73TUj"
      },
      "source": [
        "[Tensorflow Playground](https://playground.tensorflow.org)"
      ]
    },
    {
      "cell_type": "code",
      "metadata": {
        "id": "wk9oQvf8YuqM"
      },
      "source": [
        "import torch\n",
        "import torch.nn as nn\n",
        "import pandas as pd\n",
        "import numpy as np\n",
        "import sklearn\n",
        "import matplotlib.pyplot as plt "
      ],
      "execution_count": 1,
      "outputs": []
    },
    {
      "cell_type": "code",
      "metadata": {
        "id": "YZdtPvFwZluh"
      },
      "source": [
        "ruta = 'drive/My Drive/2020 2021 Proyectos/salud riesgos/'"
      ],
      "execution_count": 5,
      "outputs": []
    },
    {
      "cell_type": "code",
      "metadata": {
        "id": "nd37Ij5MZK8C",
        "colab": {
          "base_uri": "https://localhost:8080/",
          "height": 204
        },
        "outputId": "c027ee9f-4bfd-498c-d258-a45de3b71564"
      },
      "source": [
        "dataset = pd.read_excel(ruta + 'muestra_datos_X.xlsx', sheet_name='datos_2')\n",
        "#dataset = pd.read_excel(ruta + 'muestra_datos_X.xlsx', sheet_name='datos_2')\n",
        "#dataset = pd.read_excel(ruta + 'ml4asys_corona.xlsx')\n",
        "dataset.head()"
      ],
      "execution_count": 6,
      "outputs": [
        {
          "output_type": "execute_result",
          "data": {
            "text/html": [
              "<div>\n",
              "<style scoped>\n",
              "    .dataframe tbody tr th:only-of-type {\n",
              "        vertical-align: middle;\n",
              "    }\n",
              "\n",
              "    .dataframe tbody tr th {\n",
              "        vertical-align: top;\n",
              "    }\n",
              "\n",
              "    .dataframe thead th {\n",
              "        text-align: right;\n",
              "    }\n",
              "</style>\n",
              "<table border=\"1\" class=\"dataframe\">\n",
              "  <thead>\n",
              "    <tr style=\"text-align: right;\">\n",
              "      <th></th>\n",
              "      <th>entrada</th>\n",
              "      <th>salida</th>\n",
              "    </tr>\n",
              "  </thead>\n",
              "  <tbody>\n",
              "    <tr>\n",
              "      <th>0</th>\n",
              "      <td>0.902866</td>\n",
              "      <td>0.820970</td>\n",
              "    </tr>\n",
              "    <tr>\n",
              "      <th>1</th>\n",
              "      <td>0.148933</td>\n",
              "      <td>-0.129064</td>\n",
              "    </tr>\n",
              "    <tr>\n",
              "      <th>2</th>\n",
              "      <td>0.616892</td>\n",
              "      <td>0.329127</td>\n",
              "    </tr>\n",
              "    <tr>\n",
              "      <th>3</th>\n",
              "      <td>3.529468</td>\n",
              "      <td>-0.454436</td>\n",
              "    </tr>\n",
              "    <tr>\n",
              "      <th>4</th>\n",
              "      <td>4.209843</td>\n",
              "      <td>-1.232120</td>\n",
              "    </tr>\n",
              "  </tbody>\n",
              "</table>\n",
              "</div>"
            ],
            "text/plain": [
              "    entrada    salida\n",
              "0  0.902866  0.820970\n",
              "1  0.148933 -0.129064\n",
              "2  0.616892  0.329127\n",
              "3  3.529468 -0.454436\n",
              "4  4.209843 -1.232120"
            ]
          },
          "metadata": {},
          "execution_count": 6
        }
      ]
    },
    {
      "cell_type": "code",
      "metadata": {
        "id": "BQ_ndasP_99X"
      },
      "source": [
        "lcol = len(dataset.columns)"
      ],
      "execution_count": 7,
      "outputs": []
    },
    {
      "cell_type": "code",
      "metadata": {
        "id": "VEeEy7c3d_mb"
      },
      "source": [
        "from sklearn.preprocessing import normalize"
      ],
      "execution_count": 8,
      "outputs": []
    },
    {
      "cell_type": "code",
      "metadata": {
        "id": "L48Nyzjx_ho_"
      },
      "source": [
        "data = normalize(np.array(dataset), axis=0)"
      ],
      "execution_count": 9,
      "outputs": []
    },
    {
      "cell_type": "code",
      "metadata": {
        "id": "_KQmGkVdiUnW"
      },
      "source": [
        "data_X = np.array(data[:,0:lcol-1]).astype(np.float32)\n",
        "data_y = np.array(data[:,-1]).reshape(-1, 1).astype(np.float32)"
      ],
      "execution_count": 10,
      "outputs": []
    },
    {
      "cell_type": "code",
      "metadata": {
        "id": "pGUlGFsqhDsx"
      },
      "source": [
        "X_np = data_X\n",
        "y_np = data_y\n",
        "X = torch.from_numpy(X_np)\n",
        "y = torch.from_numpy(y_np.reshape(-1, 1))"
      ],
      "execution_count": 11,
      "outputs": []
    },
    {
      "cell_type": "code",
      "metadata": {
        "id": "36yHZzEROsDq"
      },
      "source": [
        "from sklearn.linear_model import LinearRegression, BayesianRidge\n",
        "from sklearn.naive_bayes import GaussianNB"
      ],
      "execution_count": 12,
      "outputs": []
    },
    {
      "cell_type": "code",
      "metadata": {
        "id": "lgJqg3AKPSQy",
        "colab": {
          "base_uri": "https://localhost:8080/"
        },
        "outputId": "0a5795ef-bcb2-47e4-add1-2825f27c8250"
      },
      "source": [
        "lm = LinearRegression()\n",
        "mlm = lm.fit(X_np, y_np)\n",
        "nb = BayesianRidge()\n",
        "mnb = nb.fit(X_np, y_np)"
      ],
      "execution_count": 13,
      "outputs": [
        {
          "output_type": "stream",
          "name": "stderr",
          "text": [
            "/usr/local/lib/python3.7/dist-packages/sklearn/utils/validation.py:760: DataConversionWarning: A column-vector y was passed when a 1d array was expected. Please change the shape of y to (n_samples, ), for example using ravel().\n",
            "  y = column_or_1d(y, warn=True)\n"
          ]
        }
      ]
    },
    {
      "cell_type": "code",
      "metadata": {
        "id": "WxIWRRCnQ8xO"
      },
      "source": [
        "pred_lm = mlm.predict(X_np)\n",
        "pred_nb = mnb.predict(X_np)"
      ],
      "execution_count": 14,
      "outputs": []
    },
    {
      "cell_type": "code",
      "metadata": {
        "id": "Odvvlkwo4o5O",
        "colab": {
          "base_uri": "https://localhost:8080/"
        },
        "outputId": "ea9bc788-e45c-49fa-f490-1ffc9dfcb459"
      },
      "source": [
        "len(X_np), len(pred_lm)"
      ],
      "execution_count": 15,
      "outputs": [
        {
          "output_type": "execute_result",
          "data": {
            "text/plain": [
              "(100, 100)"
            ]
          },
          "metadata": {},
          "execution_count": 15
        }
      ]
    },
    {
      "cell_type": "code",
      "metadata": {
        "id": "qb5UAieh5ooj",
        "colab": {
          "base_uri": "https://localhost:8080/"
        },
        "outputId": "731ae9ea-5867-4a16-b810-16ec3a67849b"
      },
      "source": [
        "mlm.coef_"
      ],
      "execution_count": 16,
      "outputs": [
        {
          "output_type": "execute_result",
          "data": {
            "text/plain": [
              "array([[-1.5917127]], dtype=float32)"
            ]
          },
          "metadata": {},
          "execution_count": 16
        }
      ]
    },
    {
      "cell_type": "code",
      "metadata": {
        "id": "6sc4e4uKpnDJ",
        "colab": {
          "base_uri": "https://localhost:8080/"
        },
        "outputId": "2a57a9b6-228b-4a37-ccbd-ab9e47ec486c"
      },
      "source": [
        "X.shape, y.shape"
      ],
      "execution_count": 17,
      "outputs": [
        {
          "output_type": "execute_result",
          "data": {
            "text/plain": [
              "(torch.Size([100, 1]), torch.Size([100, 1]))"
            ]
          },
          "metadata": {},
          "execution_count": 17
        }
      ]
    },
    {
      "cell_type": "code",
      "metadata": {
        "id": "KkjKGRwDpniJ",
        "colab": {
          "base_uri": "https://localhost:8080/"
        },
        "outputId": "76ef670a-8776-43de-d3a7-e0ea7850f68e"
      },
      "source": [
        "max(X), min(X), max(y), min(y)"
      ],
      "execution_count": 18,
      "outputs": [
        {
          "output_type": "execute_result",
          "data": {
            "text/plain": [
              "(tensor([0.1687]), tensor([0.0003]), tensor([0.1514]), tensor([-0.1944]))"
            ]
          },
          "metadata": {},
          "execution_count": 18
        }
      ]
    },
    {
      "cell_type": "code",
      "metadata": {
        "id": "eDvHpU6ypXmN"
      },
      "source": [
        "model = nn.Sequential(\n",
        "  nn.Linear(lcol-1, 128),\n",
        "  nn.ReLU(),\n",
        "  nn.Linear(128, 32),\n",
        "  nn.ReLU(),\n",
        "  nn.Linear(32, 1)\n",
        ")\n",
        "criterio = nn.MSELoss()\n",
        "optimizador = torch.optim.SGD(model.parameters(), lr=0.01)"
      ],
      "execution_count": 36,
      "outputs": []
    },
    {
      "cell_type": "code",
      "metadata": {
        "id": "oDPr67fqUUw1",
        "outputId": "6bec356e-73fe-4a6a-fd93-a6b688c13151",
        "colab": {
          "base_uri": "https://localhost:8080/"
        }
      },
      "source": [
        "torch.cuda.device_count(), torch.cuda.get_device_name(0)"
      ],
      "execution_count": 43,
      "outputs": [
        {
          "output_type": "execute_result",
          "data": {
            "text/plain": [
              "(1, 'Tesla K80')"
            ]
          },
          "metadata": {},
          "execution_count": 43
        }
      ]
    },
    {
      "cell_type": "code",
      "metadata": {
        "id": "SIwNIvRwT1Z2"
      },
      "source": [
        "model.cuda(0)\n",
        "X_g = X.cuda(0)\n",
        "y_g = y.cuda(0)"
      ],
      "execution_count": 47,
      "outputs": []
    },
    {
      "cell_type": "code",
      "metadata": {
        "id": "4-TCPnUJqN5s",
        "colab": {
          "base_uri": "https://localhost:8080/"
        },
        "outputId": "4f2b63ba-865d-4a42-b4ab-ddea0ed6b6ea"
      },
      "source": [
        "preds = []\n",
        "for epo in range(50000):\n",
        "  y_pred = model(X_g)\n",
        "  loss = criterio(y_pred, y_g)\n",
        "  loss.backward()\n",
        "  optimizador.step()\n",
        "  optimizador.zero_grad()\n",
        "  if epo % 10000 == 0:\n",
        "    print(epo, loss.item())\n",
        "    pred = y_pred.cpu().detach().numpy()\n",
        "    #print(pred.T)\n",
        "    preds.append(pred)"
      ],
      "execution_count": 51,
      "outputs": [
        {
          "output_type": "stream",
          "name": "stdout",
          "text": [
            "0 0.0007073536398820579\n",
            "10000 0.0006968981469981372\n",
            "20000 0.0006882967427372932\n",
            "30000 0.0006815136875957251\n",
            "40000 0.0006760506075806916\n"
          ]
        }
      ]
    },
    {
      "cell_type": "code",
      "metadata": {
        "id": "c4zPyndzQLdO",
        "colab": {
          "base_uri": "https://localhost:8080/",
          "height": 614
        },
        "cellView": "form",
        "outputId": "12b1811f-4858-432e-bd89-f725f03f652d"
      },
      "source": [
        "#@title Gráfica\n",
        "plt.figure(figsize=(10,10), facecolor='lightgray')\n",
        "jitter=0.0005\n",
        "\n",
        "plt.plot(y_np, pred_nb, 'go', ms=8, label='Naive Bayes')\n",
        "plt.plot(y_np, pred, 'bo', ms=8, label='Red Neuronal')\n",
        "plt.plot(y_np, pred_lm, 'ro', ms=8, label='Regresión Lineal')\n",
        "plt.plot([-1,1], [-1, 1], 'b:', lw=4)\n",
        "\n",
        "plt.title('Comparación entre Modelos Predictivos', fontsize=20)\n",
        "plt.legend(loc='best', fontsize=14)\n",
        "plt.xlim(-0.25,0.25)\n",
        "plt.ylim(-0.25,0.25)\n",
        "#plt.text(1,1, 'GestioDinámica 2020')\n",
        "plt.show()"
      ],
      "execution_count": 55,
      "outputs": [
        {
          "output_type": "display_data",
          "data": {
            "image/png": "[encoded data removed]",
            "text/plain": [
              "<Figure size 720x720 with 1 Axes>"
            ]
          },
          "metadata": {}
        }
      ]
    },
    {
      "cell_type": "markdown",
      "metadata": {
        "id": "iYOmsiqS_zoV"
      },
      "source": [
        "### Referencias\n",
        "https://medium.com/@benjamin.phillips22/simple-regression-with-neural-networks-in-pytorch-313f06910379\n"
      ]
    }
  ]
}