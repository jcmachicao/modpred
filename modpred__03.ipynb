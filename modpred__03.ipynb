{
  "nbformat": 4,
  "nbformat_minor": 0,
  "metadata": {
    "colab": {
      "name": "modpred__03.ipynb",
      "provenance": [],
      "collapsed_sections": [],
      "toc_visible": true,
      "mount_file_id": "10BMfRfmBs3RQ3jmXQeHwyJQGgy7CTiY5",
      "authorship_tag": "ABX9TyN2RiXDKTE758YMNlymy5hk",
      "include_colab_link": true
    },
    "kernelspec": {
      "name": "python3",
      "display_name": "Python 3"
    }
  },
  "cells": [
    {
      "cell_type": "markdown",
      "metadata": {
        "id": "view-in-github",
        "colab_type": "text"
      },
      "source": [
        "<a href=\"https://colab.research.google.com/github/jcmachicao/uc_curso_modelamientopredictivo/blob/master/modpred__03.ipynb\" target=\"_parent\"><img src=\"https://colab.research.google.com/assets/colab-badge.svg\" alt=\"Open In Colab\"/></a>"
      ]
    },
    {
      "cell_type": "markdown",
      "metadata": {
        "id": "_RkOsOgtPLN0"
      },
      "source": [
        "#### Cuaderno 03\n",
        "# **Curso Modelamiento Predictivo**\n",
        "---\n",
        "### **Modelos No Supervisados**\n",
        "* Autor: José Carlos Machicao\n",
        "* Licencia: [GestioDinámica](http://www.gestiodinamica.com) 2020"
      ]
    },
    {
      "cell_type": "code",
      "metadata": {
        "id": "WfZDC96_ftpt"
      },
      "source": [
        "import pandas as pd\n",
        "import numpy as np\n",
        "import matplotlib.pyplot as plt"
      ],
      "execution_count": 89,
      "outputs": []
    },
    {
      "cell_type": "code",
      "metadata": {
        "id": "_MMgrokXO6gi"
      },
      "source": [
        "from sklearn.neighbors import KNeighborsClassifier\n",
        "from sklearn.naive_bayes import GaussianNB\n",
        "from sklearn.cluster import KMeans, DBSCAN\n",
        "from sklearn.decomposition import PCA"
      ],
      "execution_count": 90,
      "outputs": []
    },
    {
      "cell_type": "markdown",
      "metadata": {
        "id": "PV-UZdmRl1Ck"
      },
      "source": [
        "### Carga de Datos"
      ]
    },
    {
      "cell_type": "code",
      "metadata": {
        "id": "y9yc_gB41B-R",
        "outputId": "115456ba-44f2-4b79-baab-7ec360f86d0f",
        "colab": {
          "base_uri": "https://localhost:8080/",
          "height": 115
        }
      },
      "source": [
        "ruta = 'drive/My Drive/2020 Cursos/2020 Modelamiento Predictivo/'\n",
        "import os\n",
        "os.listdir(ruta)"
      ],
      "execution_count": 31,
      "outputs": [
        {
          "output_type": "execute_result",
          "data": {
            "text/plain": [
              "['Inteligencia Artificial para Telemedicina.pptx',\n",
              " 'modpred__01.ipynb',\n",
              " 'uc__pnp__ejemplo_100.xlsx',\n",
              " 'modpred__02.ipynb',\n",
              " 'uc_modpred_materiales',\n",
              " 'modpred__03.ipynb']"
            ]
          },
          "metadata": {
            "tags": []
          },
          "execution_count": 31
        }
      ]
    },
    {
      "cell_type": "code",
      "metadata": {
        "id": "Oz2BO44N06tC",
        "outputId": "a2af83f8-5f5a-447d-e9fb-a6dbab3e46f9",
        "colab": {
          "base_uri": "https://localhost:8080/",
          "height": 191
        }
      },
      "source": [
        "data = pd.read_excel(ruta + 'uc__pnp__ejemplo_100.xlsx')\n",
        "data.head()"
      ],
      "execution_count": 32,
      "outputs": [
        {
          "output_type": "execute_result",
          "data": {
            "text/html": [
              "<div>\n",
              "<style scoped>\n",
              "    .dataframe tbody tr th:only-of-type {\n",
              "        vertical-align: middle;\n",
              "    }\n",
              "\n",
              "    .dataframe tbody tr th {\n",
              "        vertical-align: top;\n",
              "    }\n",
              "\n",
              "    .dataframe thead th {\n",
              "        text-align: right;\n",
              "    }\n",
              "</style>\n",
              "<table border=\"1\" class=\"dataframe\">\n",
              "  <thead>\n",
              "    <tr style=\"text-align: right;\">\n",
              "      <th></th>\n",
              "      <th>hora</th>\n",
              "      <th>sexo</th>\n",
              "      <th>edad</th>\n",
              "      <th>canal</th>\n",
              "      <th>tipo</th>\n",
              "    </tr>\n",
              "  </thead>\n",
              "  <tbody>\n",
              "    <tr>\n",
              "      <th>0</th>\n",
              "      <td>0</td>\n",
              "      <td>Masculino</td>\n",
              "      <td>24</td>\n",
              "      <td>teléfono</td>\n",
              "      <td>infracción</td>\n",
              "    </tr>\n",
              "    <tr>\n",
              "      <th>1</th>\n",
              "      <td>23</td>\n",
              "      <td>Femenino</td>\n",
              "      <td>59</td>\n",
              "      <td>efectivo</td>\n",
              "      <td>robo</td>\n",
              "    </tr>\n",
              "    <tr>\n",
              "      <th>2</th>\n",
              "      <td>9</td>\n",
              "      <td>Femenino</td>\n",
              "      <td>71</td>\n",
              "      <td>personal</td>\n",
              "      <td>violencia</td>\n",
              "    </tr>\n",
              "    <tr>\n",
              "      <th>3</th>\n",
              "      <td>24</td>\n",
              "      <td>Masculino</td>\n",
              "      <td>23</td>\n",
              "      <td>formulario web</td>\n",
              "      <td>infracción</td>\n",
              "    </tr>\n",
              "    <tr>\n",
              "      <th>4</th>\n",
              "      <td>13</td>\n",
              "      <td>Masculino</td>\n",
              "      <td>40</td>\n",
              "      <td>personal</td>\n",
              "      <td>infracción</td>\n",
              "    </tr>\n",
              "  </tbody>\n",
              "</table>\n",
              "</div>"
            ],
            "text/plain": [
              "   hora       sexo  edad           canal        tipo\n",
              "0     0  Masculino    24        teléfono  infracción\n",
              "1    23   Femenino    59        efectivo        robo\n",
              "2     9   Femenino    71        personal   violencia\n",
              "3    24  Masculino    23  formulario web  infracción\n",
              "4    13  Masculino    40        personal  infracción"
            ]
          },
          "metadata": {
            "tags": []
          },
          "execution_count": 32
        }
      ]
    },
    {
      "cell_type": "markdown",
      "metadata": {
        "id": "yU_2nE6Vl74V"
      },
      "source": [
        "### Complemento y Preparación"
      ]
    },
    {
      "cell_type": "code",
      "metadata": {
        "id": "tqSr-5wV19ZX",
        "outputId": "1d2d32f4-f184-494e-f5be-a40753470573",
        "colab": {
          "base_uri": "https://localhost:8080/",
          "height": 191
        }
      },
      "source": [
        "fac_tipo = pd.factorize(data.tipo)\n",
        "fac_canal = pd.factorize(data.canal)\n",
        "fac_sexo = pd.factorize(data.sexo)\n",
        "data['fac_tipo'] = fac_tipo[0]\n",
        "data['fac_canal'] = fac_canal[0]\n",
        "data['fac_sexo'] = fac_sexo[0]\n",
        "data.head()"
      ],
      "execution_count": 33,
      "outputs": [
        {
          "output_type": "execute_result",
          "data": {
            "text/html": [
              "<div>\n",
              "<style scoped>\n",
              "    .dataframe tbody tr th:only-of-type {\n",
              "        vertical-align: middle;\n",
              "    }\n",
              "\n",
              "    .dataframe tbody tr th {\n",
              "        vertical-align: top;\n",
              "    }\n",
              "\n",
              "    .dataframe thead th {\n",
              "        text-align: right;\n",
              "    }\n",
              "</style>\n",
              "<table border=\"1\" class=\"dataframe\">\n",
              "  <thead>\n",
              "    <tr style=\"text-align: right;\">\n",
              "      <th></th>\n",
              "      <th>hora</th>\n",
              "      <th>sexo</th>\n",
              "      <th>edad</th>\n",
              "      <th>canal</th>\n",
              "      <th>tipo</th>\n",
              "      <th>fac_tipo</th>\n",
              "      <th>fac_canal</th>\n",
              "      <th>fac_sexo</th>\n",
              "    </tr>\n",
              "  </thead>\n",
              "  <tbody>\n",
              "    <tr>\n",
              "      <th>0</th>\n",
              "      <td>0</td>\n",
              "      <td>Masculino</td>\n",
              "      <td>24</td>\n",
              "      <td>teléfono</td>\n",
              "      <td>infracción</td>\n",
              "      <td>0</td>\n",
              "      <td>0</td>\n",
              "      <td>0</td>\n",
              "    </tr>\n",
              "    <tr>\n",
              "      <th>1</th>\n",
              "      <td>23</td>\n",
              "      <td>Femenino</td>\n",
              "      <td>59</td>\n",
              "      <td>efectivo</td>\n",
              "      <td>robo</td>\n",
              "      <td>1</td>\n",
              "      <td>1</td>\n",
              "      <td>1</td>\n",
              "    </tr>\n",
              "    <tr>\n",
              "      <th>2</th>\n",
              "      <td>9</td>\n",
              "      <td>Femenino</td>\n",
              "      <td>71</td>\n",
              "      <td>personal</td>\n",
              "      <td>violencia</td>\n",
              "      <td>2</td>\n",
              "      <td>2</td>\n",
              "      <td>1</td>\n",
              "    </tr>\n",
              "    <tr>\n",
              "      <th>3</th>\n",
              "      <td>24</td>\n",
              "      <td>Masculino</td>\n",
              "      <td>23</td>\n",
              "      <td>formulario web</td>\n",
              "      <td>infracción</td>\n",
              "      <td>0</td>\n",
              "      <td>3</td>\n",
              "      <td>0</td>\n",
              "    </tr>\n",
              "    <tr>\n",
              "      <th>4</th>\n",
              "      <td>13</td>\n",
              "      <td>Masculino</td>\n",
              "      <td>40</td>\n",
              "      <td>personal</td>\n",
              "      <td>infracción</td>\n",
              "      <td>0</td>\n",
              "      <td>2</td>\n",
              "      <td>0</td>\n",
              "    </tr>\n",
              "  </tbody>\n",
              "</table>\n",
              "</div>"
            ],
            "text/plain": [
              "   hora       sexo  edad  ... fac_tipo fac_canal  fac_sexo\n",
              "0     0  Masculino    24  ...        0         0         0\n",
              "1    23   Femenino    59  ...        1         1         1\n",
              "2     9   Femenino    71  ...        2         2         1\n",
              "3    24  Masculino    23  ...        0         3         0\n",
              "4    13  Masculino    40  ...        0         2         0\n",
              "\n",
              "[5 rows x 8 columns]"
            ]
          },
          "metadata": {
            "tags": []
          },
          "execution_count": 33
        }
      ]
    },
    {
      "cell_type": "code",
      "metadata": {
        "id": "d5Fr4cPq2Eh4",
        "outputId": "953811a2-3d09-4a54-abef-1cab8f1e927b",
        "colab": {
          "base_uri": "https://localhost:8080/",
          "height": 191
        }
      },
      "source": [
        "data100 = data.drop(['sexo', 'edad', 'canal', 'tipo'], axis=1)\n",
        "data100.head()"
      ],
      "execution_count": 34,
      "outputs": [
        {
          "output_type": "execute_result",
          "data": {
            "text/html": [
              "<div>\n",
              "<style scoped>\n",
              "    .dataframe tbody tr th:only-of-type {\n",
              "        vertical-align: middle;\n",
              "    }\n",
              "\n",
              "    .dataframe tbody tr th {\n",
              "        vertical-align: top;\n",
              "    }\n",
              "\n",
              "    .dataframe thead th {\n",
              "        text-align: right;\n",
              "    }\n",
              "</style>\n",
              "<table border=\"1\" class=\"dataframe\">\n",
              "  <thead>\n",
              "    <tr style=\"text-align: right;\">\n",
              "      <th></th>\n",
              "      <th>hora</th>\n",
              "      <th>fac_tipo</th>\n",
              "      <th>fac_canal</th>\n",
              "      <th>fac_sexo</th>\n",
              "    </tr>\n",
              "  </thead>\n",
              "  <tbody>\n",
              "    <tr>\n",
              "      <th>0</th>\n",
              "      <td>0</td>\n",
              "      <td>0</td>\n",
              "      <td>0</td>\n",
              "      <td>0</td>\n",
              "    </tr>\n",
              "    <tr>\n",
              "      <th>1</th>\n",
              "      <td>23</td>\n",
              "      <td>1</td>\n",
              "      <td>1</td>\n",
              "      <td>1</td>\n",
              "    </tr>\n",
              "    <tr>\n",
              "      <th>2</th>\n",
              "      <td>9</td>\n",
              "      <td>2</td>\n",
              "      <td>2</td>\n",
              "      <td>1</td>\n",
              "    </tr>\n",
              "    <tr>\n",
              "      <th>3</th>\n",
              "      <td>24</td>\n",
              "      <td>0</td>\n",
              "      <td>3</td>\n",
              "      <td>0</td>\n",
              "    </tr>\n",
              "    <tr>\n",
              "      <th>4</th>\n",
              "      <td>13</td>\n",
              "      <td>0</td>\n",
              "      <td>2</td>\n",
              "      <td>0</td>\n",
              "    </tr>\n",
              "  </tbody>\n",
              "</table>\n",
              "</div>"
            ],
            "text/plain": [
              "   hora  fac_tipo  fac_canal  fac_sexo\n",
              "0     0         0          0         0\n",
              "1    23         1          1         1\n",
              "2     9         2          2         1\n",
              "3    24         0          3         0\n",
              "4    13         0          2         0"
            ]
          },
          "metadata": {
            "tags": []
          },
          "execution_count": 34
        }
      ]
    },
    {
      "cell_type": "code",
      "metadata": {
        "id": "k_rRr8Vg32FN",
        "outputId": "a218d17e-1bee-489b-c1fe-55ababb29a9a",
        "colab": {
          "base_uri": "https://localhost:8080/",
          "height": 191
        }
      },
      "source": [
        "X = data100.drop(['fac_tipo'], axis=1)\n",
        "X.head()"
      ],
      "execution_count": 35,
      "outputs": [
        {
          "output_type": "execute_result",
          "data": {
            "text/html": [
              "<div>\n",
              "<style scoped>\n",
              "    .dataframe tbody tr th:only-of-type {\n",
              "        vertical-align: middle;\n",
              "    }\n",
              "\n",
              "    .dataframe tbody tr th {\n",
              "        vertical-align: top;\n",
              "    }\n",
              "\n",
              "    .dataframe thead th {\n",
              "        text-align: right;\n",
              "    }\n",
              "</style>\n",
              "<table border=\"1\" class=\"dataframe\">\n",
              "  <thead>\n",
              "    <tr style=\"text-align: right;\">\n",
              "      <th></th>\n",
              "      <th>hora</th>\n",
              "      <th>fac_canal</th>\n",
              "      <th>fac_sexo</th>\n",
              "    </tr>\n",
              "  </thead>\n",
              "  <tbody>\n",
              "    <tr>\n",
              "      <th>0</th>\n",
              "      <td>0</td>\n",
              "      <td>0</td>\n",
              "      <td>0</td>\n",
              "    </tr>\n",
              "    <tr>\n",
              "      <th>1</th>\n",
              "      <td>23</td>\n",
              "      <td>1</td>\n",
              "      <td>1</td>\n",
              "    </tr>\n",
              "    <tr>\n",
              "      <th>2</th>\n",
              "      <td>9</td>\n",
              "      <td>2</td>\n",
              "      <td>1</td>\n",
              "    </tr>\n",
              "    <tr>\n",
              "      <th>3</th>\n",
              "      <td>24</td>\n",
              "      <td>3</td>\n",
              "      <td>0</td>\n",
              "    </tr>\n",
              "    <tr>\n",
              "      <th>4</th>\n",
              "      <td>13</td>\n",
              "      <td>2</td>\n",
              "      <td>0</td>\n",
              "    </tr>\n",
              "  </tbody>\n",
              "</table>\n",
              "</div>"
            ],
            "text/plain": [
              "   hora  fac_canal  fac_sexo\n",
              "0     0          0         0\n",
              "1    23          1         1\n",
              "2     9          2         1\n",
              "3    24          3         0\n",
              "4    13          2         0"
            ]
          },
          "metadata": {
            "tags": []
          },
          "execution_count": 35
        }
      ]
    },
    {
      "cell_type": "code",
      "metadata": {
        "id": "9csEVbM8n1Jj",
        "outputId": "99a2b27f-6359-43b9-eae3-402f29fda288",
        "colab": {
          "base_uri": "https://localhost:8080/",
          "height": 33
        }
      },
      "source": [
        "from sklearn.preprocessing import Normalizer, MinMaxScaler\n",
        "transf = MinMaxScaler().fit(np.array(X))\n",
        "X_tr = transf.transform(X)\n",
        "X_tr.shape"
      ],
      "execution_count": 50,
      "outputs": [
        {
          "output_type": "execute_result",
          "data": {
            "text/plain": [
              "(50, 3)"
            ]
          },
          "metadata": {
            "tags": []
          },
          "execution_count": 50
        }
      ]
    },
    {
      "cell_type": "code",
      "metadata": {
        "id": "U_Sx5C-wqv6O",
        "outputId": "466c7cd6-b9f4-4338-e392-cc95bf820485",
        "colab": {
          "base_uri": "https://localhost:8080/",
          "height": 98
        }
      },
      "source": [
        "X_tr[0:5]"
      ],
      "execution_count": 54,
      "outputs": [
        {
          "output_type": "execute_result",
          "data": {
            "text/plain": [
              "array([[0.        , 0.        , 0.        ],\n",
              "       [0.95833333, 0.33333333, 1.        ],\n",
              "       [0.375     , 0.66666667, 1.        ],\n",
              "       [1.        , 1.        , 0.        ],\n",
              "       [0.54166667, 0.66666667, 0.        ]])"
            ]
          },
          "metadata": {
            "tags": []
          },
          "execution_count": 54
        }
      ]
    },
    {
      "cell_type": "code",
      "metadata": {
        "id": "I07QjR8u3mmC",
        "outputId": "eb172206-d0f5-4fbb-870b-4d46c5c763a3",
        "colab": {
          "base_uri": "https://localhost:8080/",
          "height": 33
        }
      },
      "source": [
        "fac_tipo[1]"
      ],
      "execution_count": 55,
      "outputs": [
        {
          "output_type": "execute_result",
          "data": {
            "text/plain": [
              "Index(['infracción', 'robo', 'violencia', 'agresión sexual'], dtype='object')"
            ]
          },
          "metadata": {
            "tags": []
          },
          "execution_count": 55
        }
      ]
    },
    {
      "cell_type": "markdown",
      "metadata": {
        "id": "wR96DNNymGvc"
      },
      "source": [
        "### Modelo KMeans"
      ]
    },
    {
      "cell_type": "code",
      "metadata": {
        "id": "gY6Ft1TG3ULx",
        "outputId": "5cc9d969-bd0a-4757-bdde-b727bd1e6dc2",
        "colab": {
          "base_uri": "https://localhost:8080/",
          "height": 66
        }
      },
      "source": [
        "modelo = KMeans(n_clusters=4)\n",
        "modelo.fit(X_tr)\n",
        "modelo.labels_"
      ],
      "execution_count": 56,
      "outputs": [
        {
          "output_type": "execute_result",
          "data": {
            "text/plain": [
              "array([0, 1, 3, 2, 2, 3, 2, 1, 2, 1, 3, 2, 2, 1, 0, 1, 1, 0, 3, 2, 2, 2,\n",
              "       1, 3, 2, 2, 0, 2, 3, 2, 2, 1, 1, 1, 2, 0, 0, 1, 0, 1, 1, 2, 2, 1,\n",
              "       1, 0, 1, 3, 3, 0], dtype=int32)"
            ]
          },
          "metadata": {
            "tags": []
          },
          "execution_count": 56
        }
      ]
    },
    {
      "cell_type": "code",
      "metadata": {
        "id": "mnDgrB3E4H2G",
        "outputId": "0322d60c-74ba-4495-dce1-7360d1013a20",
        "colab": {
          "base_uri": "https://localhost:8080/",
          "height": 191
        }
      },
      "source": [
        "data100['clusters'] = modelo.labels_\n",
        "data100.head()"
      ],
      "execution_count": 57,
      "outputs": [
        {
          "output_type": "execute_result",
          "data": {
            "text/html": [
              "<div>\n",
              "<style scoped>\n",
              "    .dataframe tbody tr th:only-of-type {\n",
              "        vertical-align: middle;\n",
              "    }\n",
              "\n",
              "    .dataframe tbody tr th {\n",
              "        vertical-align: top;\n",
              "    }\n",
              "\n",
              "    .dataframe thead th {\n",
              "        text-align: right;\n",
              "    }\n",
              "</style>\n",
              "<table border=\"1\" class=\"dataframe\">\n",
              "  <thead>\n",
              "    <tr style=\"text-align: right;\">\n",
              "      <th></th>\n",
              "      <th>hora</th>\n",
              "      <th>fac_tipo</th>\n",
              "      <th>fac_canal</th>\n",
              "      <th>fac_sexo</th>\n",
              "      <th>clusters</th>\n",
              "      <th>jitter</th>\n",
              "    </tr>\n",
              "  </thead>\n",
              "  <tbody>\n",
              "    <tr>\n",
              "      <th>0</th>\n",
              "      <td>0</td>\n",
              "      <td>0</td>\n",
              "      <td>0</td>\n",
              "      <td>0</td>\n",
              "      <td>0</td>\n",
              "      <td>0.112307</td>\n",
              "    </tr>\n",
              "    <tr>\n",
              "      <th>1</th>\n",
              "      <td>23</td>\n",
              "      <td>1</td>\n",
              "      <td>1</td>\n",
              "      <td>1</td>\n",
              "      <td>1</td>\n",
              "      <td>0.055805</td>\n",
              "    </tr>\n",
              "    <tr>\n",
              "      <th>2</th>\n",
              "      <td>9</td>\n",
              "      <td>2</td>\n",
              "      <td>2</td>\n",
              "      <td>1</td>\n",
              "      <td>3</td>\n",
              "      <td>0.150376</td>\n",
              "    </tr>\n",
              "    <tr>\n",
              "      <th>3</th>\n",
              "      <td>24</td>\n",
              "      <td>0</td>\n",
              "      <td>3</td>\n",
              "      <td>0</td>\n",
              "      <td>2</td>\n",
              "      <td>0.017923</td>\n",
              "    </tr>\n",
              "    <tr>\n",
              "      <th>4</th>\n",
              "      <td>13</td>\n",
              "      <td>0</td>\n",
              "      <td>2</td>\n",
              "      <td>0</td>\n",
              "      <td>2</td>\n",
              "      <td>0.174328</td>\n",
              "    </tr>\n",
              "  </tbody>\n",
              "</table>\n",
              "</div>"
            ],
            "text/plain": [
              "   hora  fac_tipo  fac_canal  fac_sexo  clusters    jitter\n",
              "0     0         0          0         0         0  0.112307\n",
              "1    23         1          1         1         1  0.055805\n",
              "2     9         2          2         1         3  0.150376\n",
              "3    24         0          3         0         2  0.017923\n",
              "4    13         0          2         0         2  0.174328"
            ]
          },
          "metadata": {
            "tags": []
          },
          "execution_count": 57
        }
      ]
    },
    {
      "cell_type": "code",
      "metadata": {
        "id": "CuSmBqC042xf",
        "outputId": "718cd9da-992b-4488-cf3c-9e5661d20f9a",
        "colab": {
          "base_uri": "https://localhost:8080/",
          "height": 191
        }
      },
      "source": [
        "data100['jitter'] = np.random.rand(50)/3\n",
        "data100.head()"
      ],
      "execution_count": 58,
      "outputs": [
        {
          "output_type": "execute_result",
          "data": {
            "text/html": [
              "<div>\n",
              "<style scoped>\n",
              "    .dataframe tbody tr th:only-of-type {\n",
              "        vertical-align: middle;\n",
              "    }\n",
              "\n",
              "    .dataframe tbody tr th {\n",
              "        vertical-align: top;\n",
              "    }\n",
              "\n",
              "    .dataframe thead th {\n",
              "        text-align: right;\n",
              "    }\n",
              "</style>\n",
              "<table border=\"1\" class=\"dataframe\">\n",
              "  <thead>\n",
              "    <tr style=\"text-align: right;\">\n",
              "      <th></th>\n",
              "      <th>hora</th>\n",
              "      <th>fac_tipo</th>\n",
              "      <th>fac_canal</th>\n",
              "      <th>fac_sexo</th>\n",
              "      <th>clusters</th>\n",
              "      <th>jitter</th>\n",
              "    </tr>\n",
              "  </thead>\n",
              "  <tbody>\n",
              "    <tr>\n",
              "      <th>0</th>\n",
              "      <td>0</td>\n",
              "      <td>0</td>\n",
              "      <td>0</td>\n",
              "      <td>0</td>\n",
              "      <td>0</td>\n",
              "      <td>0.278890</td>\n",
              "    </tr>\n",
              "    <tr>\n",
              "      <th>1</th>\n",
              "      <td>23</td>\n",
              "      <td>1</td>\n",
              "      <td>1</td>\n",
              "      <td>1</td>\n",
              "      <td>1</td>\n",
              "      <td>0.154986</td>\n",
              "    </tr>\n",
              "    <tr>\n",
              "      <th>2</th>\n",
              "      <td>9</td>\n",
              "      <td>2</td>\n",
              "      <td>2</td>\n",
              "      <td>1</td>\n",
              "      <td>3</td>\n",
              "      <td>0.260419</td>\n",
              "    </tr>\n",
              "    <tr>\n",
              "      <th>3</th>\n",
              "      <td>24</td>\n",
              "      <td>0</td>\n",
              "      <td>3</td>\n",
              "      <td>0</td>\n",
              "      <td>2</td>\n",
              "      <td>0.085072</td>\n",
              "    </tr>\n",
              "    <tr>\n",
              "      <th>4</th>\n",
              "      <td>13</td>\n",
              "      <td>0</td>\n",
              "      <td>2</td>\n",
              "      <td>0</td>\n",
              "      <td>2</td>\n",
              "      <td>0.225483</td>\n",
              "    </tr>\n",
              "  </tbody>\n",
              "</table>\n",
              "</div>"
            ],
            "text/plain": [
              "   hora  fac_tipo  fac_canal  fac_sexo  clusters    jitter\n",
              "0     0         0          0         0         0  0.278890\n",
              "1    23         1          1         1         1  0.154986\n",
              "2     9         2          2         1         3  0.260419\n",
              "3    24         0          3         0         2  0.085072\n",
              "4    13         0          2         0         2  0.225483"
            ]
          },
          "metadata": {
            "tags": []
          },
          "execution_count": 58
        }
      ]
    },
    {
      "cell_type": "code",
      "metadata": {
        "id": "WTYSERYO4RaE",
        "outputId": "05833170-7f71-4cbf-89b8-122df84a1795",
        "colab": {
          "base_uri": "https://localhost:8080/",
          "height": 373
        }
      },
      "source": [
        "fig, ax = plt.subplots(1, 1, figsize=(9, 6), facecolor='lightblue')\n",
        "ax.plot(data100.fac_tipo+data100.jitter, data100.clusters-data100.jitter, 'ob')\n",
        "plt.show()"
      ],
      "execution_count": 85,
      "outputs": [
        {
          "output_type": "display_data",
          "data": {
            "image/png": "[encoded data removed]",
            "text/plain": [
              "<Figure size 648x432 with 1 Axes>"
            ]
          },
          "metadata": {
            "tags": []
          }
        }
      ]
    },
    {
      "cell_type": "code",
      "metadata": {
        "id": "_7WASGQQ6QZj",
        "outputId": "7a4724c0-ead5-4951-98f2-92a821b33d20",
        "colab": {
          "base_uri": "https://localhost:8080/",
          "height": 191
        }
      },
      "source": [
        "data['clusters'] = data100.clusters\n",
        "data.head()"
      ],
      "execution_count": 86,
      "outputs": [
        {
          "output_type": "execute_result",
          "data": {
            "text/html": [
              "<div>\n",
              "<style scoped>\n",
              "    .dataframe tbody tr th:only-of-type {\n",
              "        vertical-align: middle;\n",
              "    }\n",
              "\n",
              "    .dataframe tbody tr th {\n",
              "        vertical-align: top;\n",
              "    }\n",
              "\n",
              "    .dataframe thead th {\n",
              "        text-align: right;\n",
              "    }\n",
              "</style>\n",
              "<table border=\"1\" class=\"dataframe\">\n",
              "  <thead>\n",
              "    <tr style=\"text-align: right;\">\n",
              "      <th></th>\n",
              "      <th>hora</th>\n",
              "      <th>sexo</th>\n",
              "      <th>edad</th>\n",
              "      <th>canal</th>\n",
              "      <th>tipo</th>\n",
              "      <th>fac_tipo</th>\n",
              "      <th>fac_canal</th>\n",
              "      <th>fac_sexo</th>\n",
              "      <th>clusters</th>\n",
              "      <th>clust_dbscan</th>\n",
              "    </tr>\n",
              "  </thead>\n",
              "  <tbody>\n",
              "    <tr>\n",
              "      <th>0</th>\n",
              "      <td>0</td>\n",
              "      <td>Masculino</td>\n",
              "      <td>24</td>\n",
              "      <td>teléfono</td>\n",
              "      <td>infracción</td>\n",
              "      <td>0</td>\n",
              "      <td>0</td>\n",
              "      <td>0</td>\n",
              "      <td>0</td>\n",
              "      <td>0</td>\n",
              "    </tr>\n",
              "    <tr>\n",
              "      <th>1</th>\n",
              "      <td>23</td>\n",
              "      <td>Femenino</td>\n",
              "      <td>59</td>\n",
              "      <td>efectivo</td>\n",
              "      <td>robo</td>\n",
              "      <td>1</td>\n",
              "      <td>1</td>\n",
              "      <td>1</td>\n",
              "      <td>1</td>\n",
              "      <td>1</td>\n",
              "    </tr>\n",
              "    <tr>\n",
              "      <th>2</th>\n",
              "      <td>9</td>\n",
              "      <td>Femenino</td>\n",
              "      <td>71</td>\n",
              "      <td>personal</td>\n",
              "      <td>violencia</td>\n",
              "      <td>2</td>\n",
              "      <td>2</td>\n",
              "      <td>1</td>\n",
              "      <td>3</td>\n",
              "      <td>1</td>\n",
              "    </tr>\n",
              "    <tr>\n",
              "      <th>3</th>\n",
              "      <td>24</td>\n",
              "      <td>Masculino</td>\n",
              "      <td>23</td>\n",
              "      <td>formulario web</td>\n",
              "      <td>infracción</td>\n",
              "      <td>0</td>\n",
              "      <td>3</td>\n",
              "      <td>0</td>\n",
              "      <td>2</td>\n",
              "      <td>0</td>\n",
              "    </tr>\n",
              "    <tr>\n",
              "      <th>4</th>\n",
              "      <td>13</td>\n",
              "      <td>Masculino</td>\n",
              "      <td>40</td>\n",
              "      <td>personal</td>\n",
              "      <td>infracción</td>\n",
              "      <td>0</td>\n",
              "      <td>2</td>\n",
              "      <td>0</td>\n",
              "      <td>2</td>\n",
              "      <td>0</td>\n",
              "    </tr>\n",
              "  </tbody>\n",
              "</table>\n",
              "</div>"
            ],
            "text/plain": [
              "   hora       sexo  edad  ... fac_sexo clusters  clust_dbscan\n",
              "0     0  Masculino    24  ...        0        0             0\n",
              "1    23   Femenino    59  ...        1        1             1\n",
              "2     9   Femenino    71  ...        1        3             1\n",
              "3    24  Masculino    23  ...        0        2             0\n",
              "4    13  Masculino    40  ...        0        2             0\n",
              "\n",
              "[5 rows x 10 columns]"
            ]
          },
          "metadata": {
            "tags": []
          },
          "execution_count": 86
        }
      ]
    },
    {
      "cell_type": "code",
      "metadata": {
        "id": "ffPwpG185f1A",
        "outputId": "f3e4a3d0-7565-4c85-8eb7-7742bb8d714d",
        "colab": {
          "base_uri": "https://localhost:8080/",
          "height": 417
        }
      },
      "source": [
        "fig, (ax1, ax2) = plt.subplots(1, 2, figsize=(18, 6), facecolor='lightblue')\n",
        "\n",
        "for item in data['tipo'].unique():\n",
        "  datax = data[data['tipo'] == item]\n",
        "  ax1.scatter(datax.hora, datax.edad, s=200, label=item)\n",
        "  ax1.set_title('Datos Originales')\n",
        "  ax1.legend()\n",
        "\n",
        "for item in data['clusters'].unique():\n",
        "  datax = data[data['clusters'] == item]\n",
        "  ax2.scatter(datax.hora, datax.edad, s=200, label=item)\n",
        "  ax2.set_title('KMeans')\n",
        "  ax2.legend()\n",
        "\n",
        "plt.suptitle('Comparación entre Datos Originales y Predicción', fontsize=16)\n",
        "plt.show()"
      ],
      "execution_count": 87,
      "outputs": [
        {
          "output_type": "display_data",
          "data": {
            "image/png": "[encoded data removed]",
            "text/plain": [
              "<Figure size 1296x432 with 2 Axes>"
            ]
          },
          "metadata": {
            "tags": []
          }
        }
      ]
    },
    {
      "cell_type": "code",
      "metadata": {
        "id": "j4mRyaavtEFY",
        "outputId": "d8e9aca1-a176-4942-edbd-5779158645d1",
        "colab": {
          "base_uri": "https://localhost:8080/",
          "height": 277
        }
      },
      "source": [
        "#@title Análisis detallado\n",
        "data[data.clusters == 3]"
      ],
      "execution_count": 88,
      "outputs": [
        {
          "output_type": "execute_result",
          "data": {
            "text/html": [
              "<div>\n",
              "<style scoped>\n",
              "    .dataframe tbody tr th:only-of-type {\n",
              "        vertical-align: middle;\n",
              "    }\n",
              "\n",
              "    .dataframe tbody tr th {\n",
              "        vertical-align: top;\n",
              "    }\n",
              "\n",
              "    .dataframe thead th {\n",
              "        text-align: right;\n",
              "    }\n",
              "</style>\n",
              "<table border=\"1\" class=\"dataframe\">\n",
              "  <thead>\n",
              "    <tr style=\"text-align: right;\">\n",
              "      <th></th>\n",
              "      <th>hora</th>\n",
              "      <th>sexo</th>\n",
              "      <th>edad</th>\n",
              "      <th>canal</th>\n",
              "      <th>tipo</th>\n",
              "      <th>fac_tipo</th>\n",
              "      <th>fac_canal</th>\n",
              "      <th>fac_sexo</th>\n",
              "      <th>clusters</th>\n",
              "      <th>clust_dbscan</th>\n",
              "    </tr>\n",
              "  </thead>\n",
              "  <tbody>\n",
              "    <tr>\n",
              "      <th>2</th>\n",
              "      <td>9</td>\n",
              "      <td>Femenino</td>\n",
              "      <td>71</td>\n",
              "      <td>personal</td>\n",
              "      <td>violencia</td>\n",
              "      <td>2</td>\n",
              "      <td>2</td>\n",
              "      <td>1</td>\n",
              "      <td>3</td>\n",
              "      <td>1</td>\n",
              "    </tr>\n",
              "    <tr>\n",
              "      <th>5</th>\n",
              "      <td>6</td>\n",
              "      <td>Femenino</td>\n",
              "      <td>50</td>\n",
              "      <td>formulario web</td>\n",
              "      <td>robo</td>\n",
              "      <td>1</td>\n",
              "      <td>3</td>\n",
              "      <td>1</td>\n",
              "      <td>3</td>\n",
              "      <td>1</td>\n",
              "    </tr>\n",
              "    <tr>\n",
              "      <th>10</th>\n",
              "      <td>9</td>\n",
              "      <td>Femenino</td>\n",
              "      <td>46</td>\n",
              "      <td>formulario web</td>\n",
              "      <td>violencia</td>\n",
              "      <td>2</td>\n",
              "      <td>3</td>\n",
              "      <td>1</td>\n",
              "      <td>3</td>\n",
              "      <td>1</td>\n",
              "    </tr>\n",
              "    <tr>\n",
              "      <th>18</th>\n",
              "      <td>12</td>\n",
              "      <td>Femenino</td>\n",
              "      <td>26</td>\n",
              "      <td>formulario web</td>\n",
              "      <td>agresión sexual</td>\n",
              "      <td>3</td>\n",
              "      <td>3</td>\n",
              "      <td>1</td>\n",
              "      <td>3</td>\n",
              "      <td>1</td>\n",
              "    </tr>\n",
              "    <tr>\n",
              "      <th>23</th>\n",
              "      <td>8</td>\n",
              "      <td>Femenino</td>\n",
              "      <td>29</td>\n",
              "      <td>personal</td>\n",
              "      <td>violencia</td>\n",
              "      <td>2</td>\n",
              "      <td>2</td>\n",
              "      <td>1</td>\n",
              "      <td>3</td>\n",
              "      <td>1</td>\n",
              "    </tr>\n",
              "    <tr>\n",
              "      <th>28</th>\n",
              "      <td>1</td>\n",
              "      <td>Femenino</td>\n",
              "      <td>45</td>\n",
              "      <td>personal</td>\n",
              "      <td>infracción</td>\n",
              "      <td>0</td>\n",
              "      <td>2</td>\n",
              "      <td>1</td>\n",
              "      <td>3</td>\n",
              "      <td>1</td>\n",
              "    </tr>\n",
              "    <tr>\n",
              "      <th>47</th>\n",
              "      <td>2</td>\n",
              "      <td>Femenino</td>\n",
              "      <td>21</td>\n",
              "      <td>teléfono</td>\n",
              "      <td>violencia</td>\n",
              "      <td>2</td>\n",
              "      <td>0</td>\n",
              "      <td>1</td>\n",
              "      <td>3</td>\n",
              "      <td>1</td>\n",
              "    </tr>\n",
              "    <tr>\n",
              "      <th>48</th>\n",
              "      <td>0</td>\n",
              "      <td>Femenino</td>\n",
              "      <td>23</td>\n",
              "      <td>efectivo</td>\n",
              "      <td>agresión sexual</td>\n",
              "      <td>3</td>\n",
              "      <td>1</td>\n",
              "      <td>1</td>\n",
              "      <td>3</td>\n",
              "      <td>1</td>\n",
              "    </tr>\n",
              "  </tbody>\n",
              "</table>\n",
              "</div>"
            ],
            "text/plain": [
              "    hora      sexo  edad  ... fac_sexo clusters  clust_dbscan\n",
              "2      9  Femenino    71  ...        1        3             1\n",
              "5      6  Femenino    50  ...        1        3             1\n",
              "10     9  Femenino    46  ...        1        3             1\n",
              "18    12  Femenino    26  ...        1        3             1\n",
              "23     8  Femenino    29  ...        1        3             1\n",
              "28     1  Femenino    45  ...        1        3             1\n",
              "47     2  Femenino    21  ...        1        3             1\n",
              "48     0  Femenino    23  ...        1        3             1\n",
              "\n",
              "[8 rows x 10 columns]"
            ]
          },
          "metadata": {
            "tags": []
          },
          "execution_count": 88
        }
      ]
    },
    {
      "cell_type": "markdown",
      "metadata": {
        "id": "hzsLkW59mppr"
      },
      "source": [
        "### Modelo DBSCAN"
      ]
    },
    {
      "cell_type": "code",
      "metadata": {
        "id": "fttOVJ8j7z5w",
        "outputId": "40f73c83-c7d8-42c1-fa78-f411bc76a223",
        "colab": {
          "base_uri": "https://localhost:8080/",
          "height": 66
        }
      },
      "source": [
        "modelo = DBSCAN(eps=0.7, min_samples=3)\n",
        "modelo.fit(X_tr)\n",
        "modelo.labels_"
      ],
      "execution_count": 80,
      "outputs": [
        {
          "output_type": "execute_result",
          "data": {
            "text/plain": [
              "array([0, 1, 1, 0, 0, 1, 0, 1, 0, 1, 1, 0, 0, 1, 0, 1, 1, 0, 1, 0, 0, 0,\n",
              "       1, 1, 0, 0, 0, 0, 1, 0, 0, 1, 1, 1, 0, 0, 0, 1, 0, 1, 1, 0, 0, 1,\n",
              "       1, 0, 1, 1, 1, 0])"
            ]
          },
          "metadata": {
            "tags": []
          },
          "execution_count": 80
        }
      ]
    },
    {
      "cell_type": "code",
      "metadata": {
        "id": "iMkgGSf98DFe",
        "outputId": "a6985392-ca71-42a9-b3bb-0b0a88cc8f1b",
        "colab": {
          "base_uri": "https://localhost:8080/",
          "height": 191
        }
      },
      "source": [
        "data['clust_dbscan'] = modelo.labels_\n",
        "data.head()"
      ],
      "execution_count": 81,
      "outputs": [
        {
          "output_type": "execute_result",
          "data": {
            "text/html": [
              "<div>\n",
              "<style scoped>\n",
              "    .dataframe tbody tr th:only-of-type {\n",
              "        vertical-align: middle;\n",
              "    }\n",
              "\n",
              "    .dataframe tbody tr th {\n",
              "        vertical-align: top;\n",
              "    }\n",
              "\n",
              "    .dataframe thead th {\n",
              "        text-align: right;\n",
              "    }\n",
              "</style>\n",
              "<table border=\"1\" class=\"dataframe\">\n",
              "  <thead>\n",
              "    <tr style=\"text-align: right;\">\n",
              "      <th></th>\n",
              "      <th>hora</th>\n",
              "      <th>sexo</th>\n",
              "      <th>edad</th>\n",
              "      <th>canal</th>\n",
              "      <th>tipo</th>\n",
              "      <th>fac_tipo</th>\n",
              "      <th>fac_canal</th>\n",
              "      <th>fac_sexo</th>\n",
              "      <th>clusters</th>\n",
              "      <th>clust_dbscan</th>\n",
              "    </tr>\n",
              "  </thead>\n",
              "  <tbody>\n",
              "    <tr>\n",
              "      <th>0</th>\n",
              "      <td>0</td>\n",
              "      <td>Masculino</td>\n",
              "      <td>24</td>\n",
              "      <td>teléfono</td>\n",
              "      <td>infracción</td>\n",
              "      <td>0</td>\n",
              "      <td>0</td>\n",
              "      <td>0</td>\n",
              "      <td>0</td>\n",
              "      <td>0</td>\n",
              "    </tr>\n",
              "    <tr>\n",
              "      <th>1</th>\n",
              "      <td>23</td>\n",
              "      <td>Femenino</td>\n",
              "      <td>59</td>\n",
              "      <td>efectivo</td>\n",
              "      <td>robo</td>\n",
              "      <td>1</td>\n",
              "      <td>1</td>\n",
              "      <td>1</td>\n",
              "      <td>1</td>\n",
              "      <td>1</td>\n",
              "    </tr>\n",
              "    <tr>\n",
              "      <th>2</th>\n",
              "      <td>9</td>\n",
              "      <td>Femenino</td>\n",
              "      <td>71</td>\n",
              "      <td>personal</td>\n",
              "      <td>violencia</td>\n",
              "      <td>2</td>\n",
              "      <td>2</td>\n",
              "      <td>1</td>\n",
              "      <td>3</td>\n",
              "      <td>1</td>\n",
              "    </tr>\n",
              "    <tr>\n",
              "      <th>3</th>\n",
              "      <td>24</td>\n",
              "      <td>Masculino</td>\n",
              "      <td>23</td>\n",
              "      <td>formulario web</td>\n",
              "      <td>infracción</td>\n",
              "      <td>0</td>\n",
              "      <td>3</td>\n",
              "      <td>0</td>\n",
              "      <td>2</td>\n",
              "      <td>0</td>\n",
              "    </tr>\n",
              "    <tr>\n",
              "      <th>4</th>\n",
              "      <td>13</td>\n",
              "      <td>Masculino</td>\n",
              "      <td>40</td>\n",
              "      <td>personal</td>\n",
              "      <td>infracción</td>\n",
              "      <td>0</td>\n",
              "      <td>2</td>\n",
              "      <td>0</td>\n",
              "      <td>2</td>\n",
              "      <td>0</td>\n",
              "    </tr>\n",
              "  </tbody>\n",
              "</table>\n",
              "</div>"
            ],
            "text/plain": [
              "   hora       sexo  edad  ... fac_sexo clusters  clust_dbscan\n",
              "0     0  Masculino    24  ...        0        0             0\n",
              "1    23   Femenino    59  ...        1        1             1\n",
              "2     9   Femenino    71  ...        1        3             1\n",
              "3    24  Masculino    23  ...        0        2             0\n",
              "4    13  Masculino    40  ...        0        2             0\n",
              "\n",
              "[5 rows x 10 columns]"
            ]
          },
          "metadata": {
            "tags": []
          },
          "execution_count": 81
        }
      ]
    },
    {
      "cell_type": "code",
      "metadata": {
        "id": "0d0uVJnR8-ji",
        "outputId": "de2b613c-db19-4811-fedd-140e538ce62b",
        "colab": {
          "base_uri": "https://localhost:8080/",
          "height": 417
        }
      },
      "source": [
        "fig, (ax1, ax2) = plt.subplots(1, 2, figsize=(18, 6), facecolor='lightblue')\n",
        "\n",
        "for item in data['tipo'].unique():\n",
        "  datax = data[data['tipo'] == item]\n",
        "  ax1.scatter(datax.hora, datax.edad, s=200, label=item)\n",
        "  ax1.set_title('Datos Originales')\n",
        "  ax1.legend()\n",
        "\n",
        "for item in data['clust_dbscan'].unique():\n",
        "  datax = data[data['clust_dbscan'] == item]\n",
        "  ax2.scatter(datax.hora, datax.edad, s=200, label=item)\n",
        "  ax2.set_title('DBSCAN')\n",
        "  ax2.legend()\n",
        "\n",
        "plt.suptitle('Comparación entre Datos Originales y Predicción', fontsize=16)\n",
        "plt.show()"
      ],
      "execution_count": 82,
      "outputs": [
        {
          "output_type": "display_data",
          "data": {
            "image/png": "[encoded data removed]",
            "text/plain": [
              "<Figure size 1296x432 with 2 Axes>"
            ]
          },
          "metadata": {
            "tags": []
          }
        }
      ]
    }
  ]
}