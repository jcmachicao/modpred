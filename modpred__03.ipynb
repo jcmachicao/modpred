{
  "nbformat": 4,
  "nbformat_minor": 0,
  "metadata": {
    "colab": {
      "name": "modpred__03.ipynb",
      "provenance": [],
      "toc_visible": true,
      "mount_file_id": "10BMfRfmBs3RQ3jmXQeHwyJQGgy7CTiY5",
      "authorship_tag": "ABX9TyNeU82g7irREjRozy7kC6Gt",
      "include_colab_link": true
    },
    "kernelspec": {
      "name": "python3",
      "display_name": "Python 3"
    }
  },
  "cells": [
    {
      "cell_type": "markdown",
      "metadata": {
        "id": "view-in-github",
        "colab_type": "text"
      },
      "source": [
        "<a href=\"https://colab.research.google.com/github/jcmachicao/uc_curso_modelamientopredictivo/blob/master/modpred__03.ipynb\" target=\"_parent\"><img src=\"https://colab.research.google.com/assets/colab-badge.svg\" alt=\"Open In Colab\"/></a>"
      ]
    },
    {
      "cell_type": "markdown",
      "metadata": {
        "id": "_RkOsOgtPLN0"
      },
      "source": [
        "#### Cuaderno 03\n",
        "# **Curso Modelamiento Predictivo**\n",
        "---\n",
        "### **Modelos Supervisados y No Supervisados**\n",
        "* Autor: José Carlos Machicao\n",
        "* Licencia: [GestioDinámica](http://www.gestiodinamica.com) 2020"
      ]
    },
    {
      "cell_type": "code",
      "metadata": {
        "id": "WfZDC96_ftpt"
      },
      "source": [
        "import pandas as pd\n",
        "import numpy as np\n",
        "import matplotlib.pyplot as plt"
      ],
      "execution_count": null,
      "outputs": []
    },
    {
      "cell_type": "code",
      "metadata": {
        "id": "_MMgrokXO6gi"
      },
      "source": [
        "from sklearn.neighbors import KNeighborsClassifier\n",
        "from sklearn.svm import SVC\n",
        "from sklearn.gaussian_process import GaussianProcessClassifier\n",
        "from sklearn.gaussian_process.kernels import RBF\n",
        "from sklearn.naive_bayes import GaussianNB"
      ],
      "execution_count": null,
      "outputs": []
    },
    {
      "cell_type": "code",
      "metadata": {
        "id": "R35jpBW20HXT"
      },
      "source": [
        "from sklearn.cluster import KMeans, DBSCAN\n",
        "from sklearn.decomposition import PCA"
      ],
      "execution_count": null,
      "outputs": []
    },
    {
      "cell_type": "code",
      "metadata": {
        "id": "y9yc_gB41B-R",
        "outputId": "f831988d-d7d0-47c6-d3d8-70f6572a6d7a",
        "colab": {
          "base_uri": "https://localhost:8080/",
          "height": 123
        }
      },
      "source": [
        "ruta = 'drive/My Drive/2020 Cursos/2020 Modelamiento Predictivo/'\n",
        "import os\n",
        "os.listdir(ruta)"
      ],
      "execution_count": null,
      "outputs": [
        {
          "output_type": "execute_result",
          "data": {
            "text/plain": [
              "['Inteligencia Artificial para Telemedicina.pptx',\n",
              " 'modpred__01.ipynb',\n",
              " 'uc__pnp__ejemplo_100.xlsx',\n",
              " 'modpred__02.ipynb',\n",
              " 'modpred__presentacion.gslides',\n",
              " 'modpred__03.ipynb']"
            ]
          },
          "metadata": {
            "tags": []
          },
          "execution_count": 5
        }
      ]
    },
    {
      "cell_type": "code",
      "metadata": {
        "id": "Oz2BO44N06tC",
        "outputId": "a7219257-449c-46a0-d9fd-0e308102cd3e",
        "colab": {
          "base_uri": "https://localhost:8080/",
          "height": 197
        }
      },
      "source": [
        "data = pd.read_excel(ruta + 'uc__pnp__ejemplo_100.xlsx')\n",
        "data.head()"
      ],
      "execution_count": null,
      "outputs": [
        {
          "output_type": "execute_result",
          "data": {
            "text/html": [
              "<div>\n",
              "<style scoped>\n",
              "    .dataframe tbody tr th:only-of-type {\n",
              "        vertical-align: middle;\n",
              "    }\n",
              "\n",
              "    .dataframe tbody tr th {\n",
              "        vertical-align: top;\n",
              "    }\n",
              "\n",
              "    .dataframe thead th {\n",
              "        text-align: right;\n",
              "    }\n",
              "</style>\n",
              "<table border=\"1\" class=\"dataframe\">\n",
              "  <thead>\n",
              "    <tr style=\"text-align: right;\">\n",
              "      <th></th>\n",
              "      <th>hora</th>\n",
              "      <th>sexo</th>\n",
              "      <th>edad</th>\n",
              "      <th>canal</th>\n",
              "      <th>tipo</th>\n",
              "    </tr>\n",
              "  </thead>\n",
              "  <tbody>\n",
              "    <tr>\n",
              "      <th>0</th>\n",
              "      <td>0</td>\n",
              "      <td>Masculino</td>\n",
              "      <td>24</td>\n",
              "      <td>teléfono</td>\n",
              "      <td>robo</td>\n",
              "    </tr>\n",
              "    <tr>\n",
              "      <th>1</th>\n",
              "      <td>23</td>\n",
              "      <td>Femenino</td>\n",
              "      <td>59</td>\n",
              "      <td>efectivo</td>\n",
              "      <td>robo</td>\n",
              "    </tr>\n",
              "    <tr>\n",
              "      <th>2</th>\n",
              "      <td>9</td>\n",
              "      <td>Femenino</td>\n",
              "      <td>71</td>\n",
              "      <td>personal</td>\n",
              "      <td>violencia</td>\n",
              "    </tr>\n",
              "    <tr>\n",
              "      <th>3</th>\n",
              "      <td>24</td>\n",
              "      <td>Masculino</td>\n",
              "      <td>23</td>\n",
              "      <td>formulario web</td>\n",
              "      <td>infracción</td>\n",
              "    </tr>\n",
              "    <tr>\n",
              "      <th>4</th>\n",
              "      <td>13</td>\n",
              "      <td>Masculino</td>\n",
              "      <td>40</td>\n",
              "      <td>personal</td>\n",
              "      <td>infracción</td>\n",
              "    </tr>\n",
              "  </tbody>\n",
              "</table>\n",
              "</div>"
            ],
            "text/plain": [
              "   hora       sexo  edad           canal        tipo\n",
              "0     0  Masculino    24        teléfono        robo\n",
              "1    23   Femenino    59        efectivo        robo\n",
              "2     9   Femenino    71        personal   violencia\n",
              "3    24  Masculino    23  formulario web  infracción\n",
              "4    13  Masculino    40        personal  infracción"
            ]
          },
          "metadata": {
            "tags": []
          },
          "execution_count": 6
        }
      ]
    },
    {
      "cell_type": "code",
      "metadata": {
        "id": "tqSr-5wV19ZX",
        "outputId": "5421d4f7-a2b8-485d-d06a-a925d230bb78",
        "colab": {
          "base_uri": "https://localhost:8080/",
          "height": 197
        }
      },
      "source": [
        "fac_tipo = pd.factorize(data.tipo)\n",
        "fac_canal = pd.factorize(data.canal)\n",
        "fac_sexo = pd.factorize(data.sexo)\n",
        "data['fac_tipo'] = fac_tipo[0]\n",
        "data['fac_canal'] = fac_canal[0]\n",
        "data['fac_sexo'] = fac_sexo[0]\n",
        "data.head()"
      ],
      "execution_count": null,
      "outputs": [
        {
          "output_type": "execute_result",
          "data": {
            "text/html": [
              "<div>\n",
              "<style scoped>\n",
              "    .dataframe tbody tr th:only-of-type {\n",
              "        vertical-align: middle;\n",
              "    }\n",
              "\n",
              "    .dataframe tbody tr th {\n",
              "        vertical-align: top;\n",
              "    }\n",
              "\n",
              "    .dataframe thead th {\n",
              "        text-align: right;\n",
              "    }\n",
              "</style>\n",
              "<table border=\"1\" class=\"dataframe\">\n",
              "  <thead>\n",
              "    <tr style=\"text-align: right;\">\n",
              "      <th></th>\n",
              "      <th>hora</th>\n",
              "      <th>sexo</th>\n",
              "      <th>edad</th>\n",
              "      <th>canal</th>\n",
              "      <th>tipo</th>\n",
              "      <th>fac_tipo</th>\n",
              "      <th>fac_canal</th>\n",
              "      <th>fac_sexo</th>\n",
              "    </tr>\n",
              "  </thead>\n",
              "  <tbody>\n",
              "    <tr>\n",
              "      <th>0</th>\n",
              "      <td>0</td>\n",
              "      <td>Masculino</td>\n",
              "      <td>24</td>\n",
              "      <td>teléfono</td>\n",
              "      <td>robo</td>\n",
              "      <td>0</td>\n",
              "      <td>0</td>\n",
              "      <td>0</td>\n",
              "    </tr>\n",
              "    <tr>\n",
              "      <th>1</th>\n",
              "      <td>23</td>\n",
              "      <td>Femenino</td>\n",
              "      <td>59</td>\n",
              "      <td>efectivo</td>\n",
              "      <td>robo</td>\n",
              "      <td>0</td>\n",
              "      <td>1</td>\n",
              "      <td>1</td>\n",
              "    </tr>\n",
              "    <tr>\n",
              "      <th>2</th>\n",
              "      <td>9</td>\n",
              "      <td>Femenino</td>\n",
              "      <td>71</td>\n",
              "      <td>personal</td>\n",
              "      <td>violencia</td>\n",
              "      <td>1</td>\n",
              "      <td>2</td>\n",
              "      <td>1</td>\n",
              "    </tr>\n",
              "    <tr>\n",
              "      <th>3</th>\n",
              "      <td>24</td>\n",
              "      <td>Masculino</td>\n",
              "      <td>23</td>\n",
              "      <td>formulario web</td>\n",
              "      <td>infracción</td>\n",
              "      <td>2</td>\n",
              "      <td>3</td>\n",
              "      <td>0</td>\n",
              "    </tr>\n",
              "    <tr>\n",
              "      <th>4</th>\n",
              "      <td>13</td>\n",
              "      <td>Masculino</td>\n",
              "      <td>40</td>\n",
              "      <td>personal</td>\n",
              "      <td>infracción</td>\n",
              "      <td>2</td>\n",
              "      <td>2</td>\n",
              "      <td>0</td>\n",
              "    </tr>\n",
              "  </tbody>\n",
              "</table>\n",
              "</div>"
            ],
            "text/plain": [
              "   hora       sexo  edad  ... fac_tipo fac_canal  fac_sexo\n",
              "0     0  Masculino    24  ...        0         0         0\n",
              "1    23   Femenino    59  ...        0         1         1\n",
              "2     9   Femenino    71  ...        1         2         1\n",
              "3    24  Masculino    23  ...        2         3         0\n",
              "4    13  Masculino    40  ...        2         2         0\n",
              "\n",
              "[5 rows x 8 columns]"
            ]
          },
          "metadata": {
            "tags": []
          },
          "execution_count": 7
        }
      ]
    },
    {
      "cell_type": "code",
      "metadata": {
        "id": "d5Fr4cPq2Eh4",
        "outputId": "213dcf11-723c-4bfb-f158-2973d0f8362f",
        "colab": {
          "base_uri": "https://localhost:8080/",
          "height": 197
        }
      },
      "source": [
        "data100 = data.drop(['sexo', 'edad', 'canal', 'tipo'], axis=1)\n",
        "data100.head()"
      ],
      "execution_count": null,
      "outputs": [
        {
          "output_type": "execute_result",
          "data": {
            "text/html": [
              "<div>\n",
              "<style scoped>\n",
              "    .dataframe tbody tr th:only-of-type {\n",
              "        vertical-align: middle;\n",
              "    }\n",
              "\n",
              "    .dataframe tbody tr th {\n",
              "        vertical-align: top;\n",
              "    }\n",
              "\n",
              "    .dataframe thead th {\n",
              "        text-align: right;\n",
              "    }\n",
              "</style>\n",
              "<table border=\"1\" class=\"dataframe\">\n",
              "  <thead>\n",
              "    <tr style=\"text-align: right;\">\n",
              "      <th></th>\n",
              "      <th>hora</th>\n",
              "      <th>fac_tipo</th>\n",
              "      <th>fac_canal</th>\n",
              "      <th>fac_sexo</th>\n",
              "    </tr>\n",
              "  </thead>\n",
              "  <tbody>\n",
              "    <tr>\n",
              "      <th>0</th>\n",
              "      <td>0</td>\n",
              "      <td>0</td>\n",
              "      <td>0</td>\n",
              "      <td>0</td>\n",
              "    </tr>\n",
              "    <tr>\n",
              "      <th>1</th>\n",
              "      <td>23</td>\n",
              "      <td>0</td>\n",
              "      <td>1</td>\n",
              "      <td>1</td>\n",
              "    </tr>\n",
              "    <tr>\n",
              "      <th>2</th>\n",
              "      <td>9</td>\n",
              "      <td>1</td>\n",
              "      <td>2</td>\n",
              "      <td>1</td>\n",
              "    </tr>\n",
              "    <tr>\n",
              "      <th>3</th>\n",
              "      <td>24</td>\n",
              "      <td>2</td>\n",
              "      <td>3</td>\n",
              "      <td>0</td>\n",
              "    </tr>\n",
              "    <tr>\n",
              "      <th>4</th>\n",
              "      <td>13</td>\n",
              "      <td>2</td>\n",
              "      <td>2</td>\n",
              "      <td>0</td>\n",
              "    </tr>\n",
              "  </tbody>\n",
              "</table>\n",
              "</div>"
            ],
            "text/plain": [
              "   hora  fac_tipo  fac_canal  fac_sexo\n",
              "0     0         0          0         0\n",
              "1    23         0          1         1\n",
              "2     9         1          2         1\n",
              "3    24         2          3         0\n",
              "4    13         2          2         0"
            ]
          },
          "metadata": {
            "tags": []
          },
          "execution_count": 9
        }
      ]
    },
    {
      "cell_type": "code",
      "metadata": {
        "id": "k_rRr8Vg32FN",
        "outputId": "51176052-c884-4eab-da31-f3cf9552f5f8",
        "colab": {
          "base_uri": "https://localhost:8080/",
          "height": 197
        }
      },
      "source": [
        "X = data100.drop(['fac_tipo'], axis=1)\n",
        "X.head()"
      ],
      "execution_count": null,
      "outputs": [
        {
          "output_type": "execute_result",
          "data": {
            "text/html": [
              "<div>\n",
              "<style scoped>\n",
              "    .dataframe tbody tr th:only-of-type {\n",
              "        vertical-align: middle;\n",
              "    }\n",
              "\n",
              "    .dataframe tbody tr th {\n",
              "        vertical-align: top;\n",
              "    }\n",
              "\n",
              "    .dataframe thead th {\n",
              "        text-align: right;\n",
              "    }\n",
              "</style>\n",
              "<table border=\"1\" class=\"dataframe\">\n",
              "  <thead>\n",
              "    <tr style=\"text-align: right;\">\n",
              "      <th></th>\n",
              "      <th>hora</th>\n",
              "      <th>fac_canal</th>\n",
              "      <th>fac_sexo</th>\n",
              "    </tr>\n",
              "  </thead>\n",
              "  <tbody>\n",
              "    <tr>\n",
              "      <th>0</th>\n",
              "      <td>0</td>\n",
              "      <td>0</td>\n",
              "      <td>0</td>\n",
              "    </tr>\n",
              "    <tr>\n",
              "      <th>1</th>\n",
              "      <td>23</td>\n",
              "      <td>1</td>\n",
              "      <td>1</td>\n",
              "    </tr>\n",
              "    <tr>\n",
              "      <th>2</th>\n",
              "      <td>9</td>\n",
              "      <td>2</td>\n",
              "      <td>1</td>\n",
              "    </tr>\n",
              "    <tr>\n",
              "      <th>3</th>\n",
              "      <td>24</td>\n",
              "      <td>3</td>\n",
              "      <td>0</td>\n",
              "    </tr>\n",
              "    <tr>\n",
              "      <th>4</th>\n",
              "      <td>13</td>\n",
              "      <td>2</td>\n",
              "      <td>0</td>\n",
              "    </tr>\n",
              "  </tbody>\n",
              "</table>\n",
              "</div>"
            ],
            "text/plain": [
              "   hora  fac_canal  fac_sexo\n",
              "0     0          0         0\n",
              "1    23          1         1\n",
              "2     9          2         1\n",
              "3    24          3         0\n",
              "4    13          2         0"
            ]
          },
          "metadata": {
            "tags": []
          },
          "execution_count": 14
        }
      ]
    },
    {
      "cell_type": "code",
      "metadata": {
        "id": "I07QjR8u3mmC",
        "outputId": "d36c5e0e-0d4a-4a65-b44b-f66a0cedd329",
        "colab": {
          "base_uri": "https://localhost:8080/",
          "height": 34
        }
      },
      "source": [
        "fac_tipo[1]"
      ],
      "execution_count": null,
      "outputs": [
        {
          "output_type": "execute_result",
          "data": {
            "text/plain": [
              "Index(['robo', 'violencia', 'infracción', 'agresión sexual'], dtype='object')"
            ]
          },
          "metadata": {
            "tags": []
          },
          "execution_count": 13
        }
      ]
    },
    {
      "cell_type": "code",
      "metadata": {
        "id": "gY6Ft1TG3ULx",
        "outputId": "a50d877f-ee34-4f69-818a-7206dbf9ce44",
        "colab": {
          "base_uri": "https://localhost:8080/",
          "height": 70
        }
      },
      "source": [
        "modelo = KMeans(n_clusters=4)\n",
        "modelo.fit(X)\n",
        "modelo.labels_"
      ],
      "execution_count": null,
      "outputs": [
        {
          "output_type": "execute_result",
          "data": {
            "text/plain": [
              "array([1, 0, 2, 0, 2, 2, 0, 0, 0, 3, 2, 0, 3, 3, 1, 2, 3, 2, 2, 0, 0, 2,\n",
              "       0, 2, 3, 1, 1, 2, 1, 2, 3, 3, 3, 0, 1, 1, 1, 0, 3, 0, 0, 1, 3, 3,\n",
              "       0, 3, 3, 1, 1, 0], dtype=int32)"
            ]
          },
          "metadata": {
            "tags": []
          },
          "execution_count": 15
        }
      ]
    },
    {
      "cell_type": "code",
      "metadata": {
        "id": "mnDgrB3E4H2G",
        "outputId": "a6bd4c91-34fc-49fc-c1ec-fb3d87262c4d",
        "colab": {
          "base_uri": "https://localhost:8080/",
          "height": 197
        }
      },
      "source": [
        "data100['clusters'] = modelo.labels_\n",
        "data100.head()"
      ],
      "execution_count": null,
      "outputs": [
        {
          "output_type": "execute_result",
          "data": {
            "text/html": [
              "<div>\n",
              "<style scoped>\n",
              "    .dataframe tbody tr th:only-of-type {\n",
              "        vertical-align: middle;\n",
              "    }\n",
              "\n",
              "    .dataframe tbody tr th {\n",
              "        vertical-align: top;\n",
              "    }\n",
              "\n",
              "    .dataframe thead th {\n",
              "        text-align: right;\n",
              "    }\n",
              "</style>\n",
              "<table border=\"1\" class=\"dataframe\">\n",
              "  <thead>\n",
              "    <tr style=\"text-align: right;\">\n",
              "      <th></th>\n",
              "      <th>hora</th>\n",
              "      <th>fac_tipo</th>\n",
              "      <th>fac_canal</th>\n",
              "      <th>fac_sexo</th>\n",
              "      <th>clusters</th>\n",
              "    </tr>\n",
              "  </thead>\n",
              "  <tbody>\n",
              "    <tr>\n",
              "      <th>0</th>\n",
              "      <td>0</td>\n",
              "      <td>0</td>\n",
              "      <td>0</td>\n",
              "      <td>0</td>\n",
              "      <td>1</td>\n",
              "    </tr>\n",
              "    <tr>\n",
              "      <th>1</th>\n",
              "      <td>23</td>\n",
              "      <td>0</td>\n",
              "      <td>1</td>\n",
              "      <td>1</td>\n",
              "      <td>0</td>\n",
              "    </tr>\n",
              "    <tr>\n",
              "      <th>2</th>\n",
              "      <td>9</td>\n",
              "      <td>1</td>\n",
              "      <td>2</td>\n",
              "      <td>1</td>\n",
              "      <td>2</td>\n",
              "    </tr>\n",
              "    <tr>\n",
              "      <th>3</th>\n",
              "      <td>24</td>\n",
              "      <td>2</td>\n",
              "      <td>3</td>\n",
              "      <td>0</td>\n",
              "      <td>0</td>\n",
              "    </tr>\n",
              "    <tr>\n",
              "      <th>4</th>\n",
              "      <td>13</td>\n",
              "      <td>2</td>\n",
              "      <td>2</td>\n",
              "      <td>0</td>\n",
              "      <td>2</td>\n",
              "    </tr>\n",
              "  </tbody>\n",
              "</table>\n",
              "</div>"
            ],
            "text/plain": [
              "   hora  fac_tipo  fac_canal  fac_sexo  clusters\n",
              "0     0         0          0         0         1\n",
              "1    23         0          1         1         0\n",
              "2     9         1          2         1         2\n",
              "3    24         2          3         0         0\n",
              "4    13         2          2         0         2"
            ]
          },
          "metadata": {
            "tags": []
          },
          "execution_count": 16
        }
      ]
    },
    {
      "cell_type": "code",
      "metadata": {
        "id": "CuSmBqC042xf",
        "outputId": "c955e019-4a77-4aac-8f5c-7d1dae457ca9",
        "colab": {
          "base_uri": "https://localhost:8080/",
          "height": 197
        }
      },
      "source": [
        "data100['jitter'] = np.random.rand(50)/3\n",
        "data100.head()"
      ],
      "execution_count": null,
      "outputs": [
        {
          "output_type": "execute_result",
          "data": {
            "text/html": [
              "<div>\n",
              "<style scoped>\n",
              "    .dataframe tbody tr th:only-of-type {\n",
              "        vertical-align: middle;\n",
              "    }\n",
              "\n",
              "    .dataframe tbody tr th {\n",
              "        vertical-align: top;\n",
              "    }\n",
              "\n",
              "    .dataframe thead th {\n",
              "        text-align: right;\n",
              "    }\n",
              "</style>\n",
              "<table border=\"1\" class=\"dataframe\">\n",
              "  <thead>\n",
              "    <tr style=\"text-align: right;\">\n",
              "      <th></th>\n",
              "      <th>hora</th>\n",
              "      <th>fac_tipo</th>\n",
              "      <th>fac_canal</th>\n",
              "      <th>fac_sexo</th>\n",
              "      <th>clusters</th>\n",
              "      <th>jitter</th>\n",
              "    </tr>\n",
              "  </thead>\n",
              "  <tbody>\n",
              "    <tr>\n",
              "      <th>0</th>\n",
              "      <td>0</td>\n",
              "      <td>0</td>\n",
              "      <td>0</td>\n",
              "      <td>0</td>\n",
              "      <td>1</td>\n",
              "      <td>0.239858</td>\n",
              "    </tr>\n",
              "    <tr>\n",
              "      <th>1</th>\n",
              "      <td>23</td>\n",
              "      <td>0</td>\n",
              "      <td>1</td>\n",
              "      <td>1</td>\n",
              "      <td>0</td>\n",
              "      <td>0.129118</td>\n",
              "    </tr>\n",
              "    <tr>\n",
              "      <th>2</th>\n",
              "      <td>9</td>\n",
              "      <td>1</td>\n",
              "      <td>2</td>\n",
              "      <td>1</td>\n",
              "      <td>2</td>\n",
              "      <td>0.054987</td>\n",
              "    </tr>\n",
              "    <tr>\n",
              "      <th>3</th>\n",
              "      <td>24</td>\n",
              "      <td>2</td>\n",
              "      <td>3</td>\n",
              "      <td>0</td>\n",
              "      <td>0</td>\n",
              "      <td>0.073869</td>\n",
              "    </tr>\n",
              "    <tr>\n",
              "      <th>4</th>\n",
              "      <td>13</td>\n",
              "      <td>2</td>\n",
              "      <td>2</td>\n",
              "      <td>0</td>\n",
              "      <td>2</td>\n",
              "      <td>0.232314</td>\n",
              "    </tr>\n",
              "  </tbody>\n",
              "</table>\n",
              "</div>"
            ],
            "text/plain": [
              "   hora  fac_tipo  fac_canal  fac_sexo  clusters    jitter\n",
              "0     0         0          0         0         1  0.239858\n",
              "1    23         0          1         1         0  0.129118\n",
              "2     9         1          2         1         2  0.054987\n",
              "3    24         2          3         0         0  0.073869\n",
              "4    13         2          2         0         2  0.232314"
            ]
          },
          "metadata": {
            "tags": []
          },
          "execution_count": 23
        }
      ]
    },
    {
      "cell_type": "code",
      "metadata": {
        "id": "WTYSERYO4RaE",
        "outputId": "cf2c7ef2-f56b-4498-9a87-469d3d9e2fbe",
        "colab": {
          "base_uri": "https://localhost:8080/",
          "height": 282
        }
      },
      "source": [
        "plt.plot(data100.fac_tipo+data100.jitter, data100.clusters-data100.jitter, 'ob')"
      ],
      "execution_count": null,
      "outputs": [
        {
          "output_type": "execute_result",
          "data": {
            "text/plain": [
              "[<matplotlib.lines.Line2D at 0x7f777b727240>]"
            ]
          },
          "metadata": {
            "tags": []
          },
          "execution_count": 24
        },
        {
          "output_type": "display_data",
          "data": {
            "image/png": "[encoded data removed]",
            "text/plain": [
              "<Figure size 432x288 with 1 Axes>"
            ]
          },
          "metadata": {
            "tags": [],
            "needs_background": "light"
          }
        }
      ]
    },
    {
      "cell_type": "code",
      "metadata": {
        "id": "_7WASGQQ6QZj",
        "outputId": "e51fd619-f6bb-4e76-e28e-108657d46b81",
        "colab": {
          "base_uri": "https://localhost:8080/",
          "height": 197
        }
      },
      "source": [
        "data['clusters'] = data100.clusters\n",
        "data.head()"
      ],
      "execution_count": null,
      "outputs": [
        {
          "output_type": "execute_result",
          "data": {
            "text/html": [
              "<div>\n",
              "<style scoped>\n",
              "    .dataframe tbody tr th:only-of-type {\n",
              "        vertical-align: middle;\n",
              "    }\n",
              "\n",
              "    .dataframe tbody tr th {\n",
              "        vertical-align: top;\n",
              "    }\n",
              "\n",
              "    .dataframe thead th {\n",
              "        text-align: right;\n",
              "    }\n",
              "</style>\n",
              "<table border=\"1\" class=\"dataframe\">\n",
              "  <thead>\n",
              "    <tr style=\"text-align: right;\">\n",
              "      <th></th>\n",
              "      <th>hora</th>\n",
              "      <th>sexo</th>\n",
              "      <th>edad</th>\n",
              "      <th>canal</th>\n",
              "      <th>tipo</th>\n",
              "      <th>fac_tipo</th>\n",
              "      <th>fac_canal</th>\n",
              "      <th>fac_sexo</th>\n",
              "      <th>clusters</th>\n",
              "    </tr>\n",
              "  </thead>\n",
              "  <tbody>\n",
              "    <tr>\n",
              "      <th>0</th>\n",
              "      <td>0</td>\n",
              "      <td>Masculino</td>\n",
              "      <td>24</td>\n",
              "      <td>teléfono</td>\n",
              "      <td>robo</td>\n",
              "      <td>0</td>\n",
              "      <td>0</td>\n",
              "      <td>0</td>\n",
              "      <td>1</td>\n",
              "    </tr>\n",
              "    <tr>\n",
              "      <th>1</th>\n",
              "      <td>23</td>\n",
              "      <td>Femenino</td>\n",
              "      <td>59</td>\n",
              "      <td>efectivo</td>\n",
              "      <td>robo</td>\n",
              "      <td>0</td>\n",
              "      <td>1</td>\n",
              "      <td>1</td>\n",
              "      <td>0</td>\n",
              "    </tr>\n",
              "    <tr>\n",
              "      <th>2</th>\n",
              "      <td>9</td>\n",
              "      <td>Femenino</td>\n",
              "      <td>71</td>\n",
              "      <td>personal</td>\n",
              "      <td>violencia</td>\n",
              "      <td>1</td>\n",
              "      <td>2</td>\n",
              "      <td>1</td>\n",
              "      <td>2</td>\n",
              "    </tr>\n",
              "    <tr>\n",
              "      <th>3</th>\n",
              "      <td>24</td>\n",
              "      <td>Masculino</td>\n",
              "      <td>23</td>\n",
              "      <td>formulario web</td>\n",
              "      <td>infracción</td>\n",
              "      <td>2</td>\n",
              "      <td>3</td>\n",
              "      <td>0</td>\n",
              "      <td>0</td>\n",
              "    </tr>\n",
              "    <tr>\n",
              "      <th>4</th>\n",
              "      <td>13</td>\n",
              "      <td>Masculino</td>\n",
              "      <td>40</td>\n",
              "      <td>personal</td>\n",
              "      <td>infracción</td>\n",
              "      <td>2</td>\n",
              "      <td>2</td>\n",
              "      <td>0</td>\n",
              "      <td>2</td>\n",
              "    </tr>\n",
              "  </tbody>\n",
              "</table>\n",
              "</div>"
            ],
            "text/plain": [
              "   hora       sexo  edad  ... fac_canal fac_sexo  clusters\n",
              "0     0  Masculino    24  ...         0        0         1\n",
              "1    23   Femenino    59  ...         1        1         0\n",
              "2     9   Femenino    71  ...         2        1         2\n",
              "3    24  Masculino    23  ...         3        0         0\n",
              "4    13  Masculino    40  ...         2        0         2\n",
              "\n",
              "[5 rows x 9 columns]"
            ]
          },
          "metadata": {
            "tags": []
          },
          "execution_count": 25
        }
      ]
    },
    {
      "cell_type": "code",
      "metadata": {
        "id": "ffPwpG185f1A",
        "outputId": "a0876591-9b54-49ca-cbef-5e41a350a212",
        "colab": {
          "base_uri": "https://localhost:8080/",
          "height": 416
        }
      },
      "source": [
        "fig, (ax1, ax2) = plt.subplots(1, 2, figsize=(18, 6), facecolor='lightblue')\n",
        "\n",
        "for item in data['tipo'].unique():\n",
        "  datax = data[data['tipo'] == item]\n",
        "  ax1.scatter(datax.hora, datax.edad, s=200, label=item)\n",
        "  ax1.set_title('Datos Originales')\n",
        "  ax1.legend()\n",
        "\n",
        "for item in data['clusters'].unique():\n",
        "  datax = data[data['clusters'] == item]\n",
        "  ax2.scatter(datax.hora, datax.edad, s=200, label=item)\n",
        "  ax2.set_title('KMeans')\n",
        "  ax2.legend()\n",
        "\n",
        "plt.suptitle('Comparación entre Datos Originales y Predicción', fontsize=16)\n",
        "plt.show()"
      ],
      "execution_count": null,
      "outputs": [
        {
          "output_type": "display_data",
          "data": {
            "image/png": "[encoded data removed]",
            "text/plain": [
              "<Figure size 1296x432 with 2 Axes>"
            ]
          },
          "metadata": {
            "tags": []
          }
        }
      ]
    },
    {
      "cell_type": "code",
      "metadata": {
        "id": "fttOVJ8j7z5w",
        "outputId": "06802d45-236b-4c9e-d499-e467b70fd684",
        "colab": {
          "base_uri": "https://localhost:8080/",
          "height": 70
        }
      },
      "source": [
        "modelo = DBSCAN(eps=0.1, min_samples=2)\n",
        "modelo.fit(X)\n",
        "modelo.labels_"
      ],
      "execution_count": null,
      "outputs": [
        {
          "output_type": "execute_result",
          "data": {
            "text/plain": [
              "array([-1, -1, -1, -1, -1, -1, -1, -1, -1,  0, -1, -1, -1, -1,  1, -1, -1,\n",
              "       -1, -1, -1, -1, -1,  2, -1, -1,  3,  1, -1, -1, -1, -1, -1,  4, -1,\n",
              "        3,  1, -1, -1, -1, -1,  2, -1, -1,  4, -1, -1,  0, -1, -1, -1])"
            ]
          },
          "metadata": {
            "tags": []
          },
          "execution_count": 47
        }
      ]
    },
    {
      "cell_type": "code",
      "metadata": {
        "id": "iMkgGSf98DFe",
        "outputId": "34d55cf6-767e-4af6-ecbd-011e316fa5b5",
        "colab": {
          "base_uri": "https://localhost:8080/",
          "height": 197
        }
      },
      "source": [
        "data['clust_dbscan'] = modelo.labels_\n",
        "data.head()"
      ],
      "execution_count": null,
      "outputs": [
        {
          "output_type": "execute_result",
          "data": {
            "text/html": [
              "<div>\n",
              "<style scoped>\n",
              "    .dataframe tbody tr th:only-of-type {\n",
              "        vertical-align: middle;\n",
              "    }\n",
              "\n",
              "    .dataframe tbody tr th {\n",
              "        vertical-align: top;\n",
              "    }\n",
              "\n",
              "    .dataframe thead th {\n",
              "        text-align: right;\n",
              "    }\n",
              "</style>\n",
              "<table border=\"1\" class=\"dataframe\">\n",
              "  <thead>\n",
              "    <tr style=\"text-align: right;\">\n",
              "      <th></th>\n",
              "      <th>hora</th>\n",
              "      <th>sexo</th>\n",
              "      <th>edad</th>\n",
              "      <th>canal</th>\n",
              "      <th>tipo</th>\n",
              "      <th>fac_tipo</th>\n",
              "      <th>fac_canal</th>\n",
              "      <th>fac_sexo</th>\n",
              "      <th>clusters</th>\n",
              "      <th>clust_dbscan</th>\n",
              "    </tr>\n",
              "  </thead>\n",
              "  <tbody>\n",
              "    <tr>\n",
              "      <th>0</th>\n",
              "      <td>0</td>\n",
              "      <td>Masculino</td>\n",
              "      <td>24</td>\n",
              "      <td>teléfono</td>\n",
              "      <td>robo</td>\n",
              "      <td>0</td>\n",
              "      <td>0</td>\n",
              "      <td>0</td>\n",
              "      <td>1</td>\n",
              "      <td>-1</td>\n",
              "    </tr>\n",
              "    <tr>\n",
              "      <th>1</th>\n",
              "      <td>23</td>\n",
              "      <td>Femenino</td>\n",
              "      <td>59</td>\n",
              "      <td>efectivo</td>\n",
              "      <td>robo</td>\n",
              "      <td>0</td>\n",
              "      <td>1</td>\n",
              "      <td>1</td>\n",
              "      <td>0</td>\n",
              "      <td>-1</td>\n",
              "    </tr>\n",
              "    <tr>\n",
              "      <th>2</th>\n",
              "      <td>9</td>\n",
              "      <td>Femenino</td>\n",
              "      <td>71</td>\n",
              "      <td>personal</td>\n",
              "      <td>violencia</td>\n",
              "      <td>1</td>\n",
              "      <td>2</td>\n",
              "      <td>1</td>\n",
              "      <td>2</td>\n",
              "      <td>-1</td>\n",
              "    </tr>\n",
              "    <tr>\n",
              "      <th>3</th>\n",
              "      <td>24</td>\n",
              "      <td>Masculino</td>\n",
              "      <td>23</td>\n",
              "      <td>formulario web</td>\n",
              "      <td>infracción</td>\n",
              "      <td>2</td>\n",
              "      <td>3</td>\n",
              "      <td>0</td>\n",
              "      <td>0</td>\n",
              "      <td>-1</td>\n",
              "    </tr>\n",
              "    <tr>\n",
              "      <th>4</th>\n",
              "      <td>13</td>\n",
              "      <td>Masculino</td>\n",
              "      <td>40</td>\n",
              "      <td>personal</td>\n",
              "      <td>infracción</td>\n",
              "      <td>2</td>\n",
              "      <td>2</td>\n",
              "      <td>0</td>\n",
              "      <td>2</td>\n",
              "      <td>-1</td>\n",
              "    </tr>\n",
              "  </tbody>\n",
              "</table>\n",
              "</div>"
            ],
            "text/plain": [
              "   hora       sexo  edad  ... fac_sexo clusters  clust_dbscan\n",
              "0     0  Masculino    24  ...        0        1            -1\n",
              "1    23   Femenino    59  ...        1        0            -1\n",
              "2     9   Femenino    71  ...        1        2            -1\n",
              "3    24  Masculino    23  ...        0        0            -1\n",
              "4    13  Masculino    40  ...        0        2            -1\n",
              "\n",
              "[5 rows x 10 columns]"
            ]
          },
          "metadata": {
            "tags": []
          },
          "execution_count": 48
        }
      ]
    },
    {
      "cell_type": "code",
      "metadata": {
        "id": "0d0uVJnR8-ji",
        "outputId": "8d768865-536a-49c5-cce3-1512ac4b18e7",
        "colab": {
          "base_uri": "https://localhost:8080/",
          "height": 416
        }
      },
      "source": [
        "fig, (ax1, ax2) = plt.subplots(1, 2, figsize=(18, 6), facecolor='lightblue')\n",
        "\n",
        "for item in data['tipo'].unique():\n",
        "  datax = data[data['tipo'] == item]\n",
        "  ax1.scatter(datax.hora, datax.edad, s=200, label=item)\n",
        "  ax1.set_title('Datos Originales')\n",
        "  ax1.legend()\n",
        "\n",
        "for item in data['clust_dbscan'].unique():\n",
        "  datax = data[data['clust_dbscan'] == item]\n",
        "  ax2.scatter(datax.hora, datax.edad, s=200, label=item)\n",
        "  ax2.set_title('DBSCAN')\n",
        "  ax2.legend()\n",
        "\n",
        "plt.suptitle('Comparación entre Datos Originales y Predicción', fontsize=16)\n",
        "plt.show()"
      ],
      "execution_count": null,
      "outputs": [
        {
          "output_type": "display_data",
          "data": {
            "image/png": "[encoded data removed]",
            "text/plain": [
              "<Figure size 1296x432 with 2 Axes>"
            ]
          },
          "metadata": {
            "tags": []
          }
        }
      ]
    }
  ]
}