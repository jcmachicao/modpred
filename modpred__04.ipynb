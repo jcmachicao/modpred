{
  "nbformat": 4,
  "nbformat_minor": 0,
  "metadata": {
    "colab": {
      "name": "modpred__04.ipynb",
      "provenance": [],
      "collapsed_sections": [],
      "toc_visible": true,
      "mount_file_id": "1ItcRlbxd061eG91RhJ-remnbRDBxMEo8",
      "authorship_tag": "ABX9TyPNhvU5LB+EbXhEdnasMOhj",
      "include_colab_link": true
    },
    "kernelspec": {
      "name": "python3",
      "display_name": "Python 3"
    }
  },
  "cells": [
    {
      "cell_type": "markdown",
      "metadata": {
        "id": "view-in-github",
        "colab_type": "text"
      },
      "source": [
        "<a href=\"https://colab.research.google.com/github/jcmachicao/uc_curso_modelamientopredictivo/blob/master/modpred__04.ipynb\" target=\"_parent\"><img src=\"https://colab.research.google.com/assets/colab-badge.svg\" alt=\"Open In Colab\"/></a>"
      ]
    },
    {
      "cell_type": "markdown",
      "metadata": {
        "id": "_RkOsOgtPLN0"
      },
      "source": [
        "#### Cuaderno 04\n",
        "# **Curso Modelamiento Predictivo**\n",
        "---\n",
        "### **Modelos Supervisados**\n",
        "* Autor: José Carlos Machicao\n",
        "* Licencia: [GestioDinámica](http://www.gestiodinamica.com) 2020"
      ]
    },
    {
      "cell_type": "code",
      "metadata": {
        "id": "WfZDC96_ftpt"
      },
      "source": [
        "import pandas as pd\n",
        "import numpy as np\n",
        "import matplotlib.pyplot as plt"
      ],
      "execution_count": 1,
      "outputs": []
    },
    {
      "cell_type": "code",
      "metadata": {
        "id": "_MMgrokXO6gi"
      },
      "source": [
        "from sklearn.naive_bayes import GaussianNB\n",
        "from sklearn.linear_model import LinearRegression, LogisticRegression"
      ],
      "execution_count": 3,
      "outputs": []
    },
    {
      "cell_type": "markdown",
      "metadata": {
        "id": "PV-UZdmRl1Ck"
      },
      "source": [
        "### Carga de Datos"
      ]
    },
    {
      "cell_type": "code",
      "metadata": {
        "id": "y9yc_gB41B-R",
        "outputId": "67cf5285-f909-4ee0-ae96-c6cb0abe430f",
        "colab": {
          "base_uri": "https://localhost:8080/",
          "height": 131
        }
      },
      "source": [
        "ruta = 'drive/My Drive/2020 Cursos/2020 Modelamiento Predictivo/'\n",
        "import os\n",
        "os.listdir(ruta)"
      ],
      "execution_count": 4,
      "outputs": [
        {
          "output_type": "execute_result",
          "data": {
            "text/plain": [
              "['modpred__04.ipynb',\n",
              " 'Inteligencia Artificial para Telemedicina.pptx',\n",
              " 'modpred__01.ipynb',\n",
              " 'modpred__02.ipynb',\n",
              " 'uc_modpred_materiales',\n",
              " 'uc__pnp__ejemplo_100.xlsx',\n",
              " 'modpred__03.ipynb']"
            ]
          },
          "metadata": {
            "tags": []
          },
          "execution_count": 4
        }
      ]
    },
    {
      "cell_type": "code",
      "metadata": {
        "id": "Oz2BO44N06tC",
        "outputId": "166b1932-e144-48e2-dffe-2a161020c2ad",
        "colab": {
          "base_uri": "https://localhost:8080/",
          "height": 191
        }
      },
      "source": [
        "data = pd.read_excel(ruta + 'uc__pnp__ejemplo_100.xlsx')\n",
        "data.head()"
      ],
      "execution_count": 5,
      "outputs": [
        {
          "output_type": "execute_result",
          "data": {
            "text/html": [
              "<div>\n",
              "<style scoped>\n",
              "    .dataframe tbody tr th:only-of-type {\n",
              "        vertical-align: middle;\n",
              "    }\n",
              "\n",
              "    .dataframe tbody tr th {\n",
              "        vertical-align: top;\n",
              "    }\n",
              "\n",
              "    .dataframe thead th {\n",
              "        text-align: right;\n",
              "    }\n",
              "</style>\n",
              "<table border=\"1\" class=\"dataframe\">\n",
              "  <thead>\n",
              "    <tr style=\"text-align: right;\">\n",
              "      <th></th>\n",
              "      <th>hora</th>\n",
              "      <th>sexo</th>\n",
              "      <th>edad</th>\n",
              "      <th>canal</th>\n",
              "      <th>tipo</th>\n",
              "    </tr>\n",
              "  </thead>\n",
              "  <tbody>\n",
              "    <tr>\n",
              "      <th>0</th>\n",
              "      <td>0</td>\n",
              "      <td>Masculino</td>\n",
              "      <td>24</td>\n",
              "      <td>teléfono</td>\n",
              "      <td>infracción</td>\n",
              "    </tr>\n",
              "    <tr>\n",
              "      <th>1</th>\n",
              "      <td>23</td>\n",
              "      <td>Femenino</td>\n",
              "      <td>59</td>\n",
              "      <td>efectivo</td>\n",
              "      <td>robo</td>\n",
              "    </tr>\n",
              "    <tr>\n",
              "      <th>2</th>\n",
              "      <td>9</td>\n",
              "      <td>Femenino</td>\n",
              "      <td>71</td>\n",
              "      <td>personal</td>\n",
              "      <td>violencia</td>\n",
              "    </tr>\n",
              "    <tr>\n",
              "      <th>3</th>\n",
              "      <td>24</td>\n",
              "      <td>Masculino</td>\n",
              "      <td>23</td>\n",
              "      <td>formulario web</td>\n",
              "      <td>infracción</td>\n",
              "    </tr>\n",
              "    <tr>\n",
              "      <th>4</th>\n",
              "      <td>13</td>\n",
              "      <td>Masculino</td>\n",
              "      <td>40</td>\n",
              "      <td>personal</td>\n",
              "      <td>infracción</td>\n",
              "    </tr>\n",
              "  </tbody>\n",
              "</table>\n",
              "</div>"
            ],
            "text/plain": [
              "   hora       sexo  edad           canal        tipo\n",
              "0     0  Masculino    24        teléfono  infracción\n",
              "1    23   Femenino    59        efectivo        robo\n",
              "2     9   Femenino    71        personal   violencia\n",
              "3    24  Masculino    23  formulario web  infracción\n",
              "4    13  Masculino    40        personal  infracción"
            ]
          },
          "metadata": {
            "tags": []
          },
          "execution_count": 5
        }
      ]
    },
    {
      "cell_type": "markdown",
      "metadata": {
        "id": "yU_2nE6Vl74V"
      },
      "source": [
        "### Complemento y Preparación"
      ]
    },
    {
      "cell_type": "code",
      "metadata": {
        "id": "tqSr-5wV19ZX",
        "outputId": "4e83b0c8-b234-48c6-bf38-7bf7fc8795be",
        "colab": {
          "base_uri": "https://localhost:8080/",
          "height": 191
        }
      },
      "source": [
        "fac_tipo = pd.factorize(data.tipo)\n",
        "fac_canal = pd.factorize(data.canal)\n",
        "fac_sexo = pd.factorize(data.sexo)\n",
        "data['fac_tipo'] = fac_tipo[0]\n",
        "data['fac_canal'] = fac_canal[0]\n",
        "data['fac_sexo'] = fac_sexo[0]\n",
        "data.head()"
      ],
      "execution_count": 7,
      "outputs": [
        {
          "output_type": "execute_result",
          "data": {
            "text/html": [
              "<div>\n",
              "<style scoped>\n",
              "    .dataframe tbody tr th:only-of-type {\n",
              "        vertical-align: middle;\n",
              "    }\n",
              "\n",
              "    .dataframe tbody tr th {\n",
              "        vertical-align: top;\n",
              "    }\n",
              "\n",
              "    .dataframe thead th {\n",
              "        text-align: right;\n",
              "    }\n",
              "</style>\n",
              "<table border=\"1\" class=\"dataframe\">\n",
              "  <thead>\n",
              "    <tr style=\"text-align: right;\">\n",
              "      <th></th>\n",
              "      <th>hora</th>\n",
              "      <th>sexo</th>\n",
              "      <th>edad</th>\n",
              "      <th>canal</th>\n",
              "      <th>tipo</th>\n",
              "      <th>fac_tipo</th>\n",
              "      <th>fac_canal</th>\n",
              "      <th>fac_sexo</th>\n",
              "    </tr>\n",
              "  </thead>\n",
              "  <tbody>\n",
              "    <tr>\n",
              "      <th>0</th>\n",
              "      <td>0</td>\n",
              "      <td>Masculino</td>\n",
              "      <td>24</td>\n",
              "      <td>teléfono</td>\n",
              "      <td>infracción</td>\n",
              "      <td>0</td>\n",
              "      <td>0</td>\n",
              "      <td>0</td>\n",
              "    </tr>\n",
              "    <tr>\n",
              "      <th>1</th>\n",
              "      <td>23</td>\n",
              "      <td>Femenino</td>\n",
              "      <td>59</td>\n",
              "      <td>efectivo</td>\n",
              "      <td>robo</td>\n",
              "      <td>1</td>\n",
              "      <td>1</td>\n",
              "      <td>1</td>\n",
              "    </tr>\n",
              "    <tr>\n",
              "      <th>2</th>\n",
              "      <td>9</td>\n",
              "      <td>Femenino</td>\n",
              "      <td>71</td>\n",
              "      <td>personal</td>\n",
              "      <td>violencia</td>\n",
              "      <td>2</td>\n",
              "      <td>2</td>\n",
              "      <td>1</td>\n",
              "    </tr>\n",
              "    <tr>\n",
              "      <th>3</th>\n",
              "      <td>24</td>\n",
              "      <td>Masculino</td>\n",
              "      <td>23</td>\n",
              "      <td>formulario web</td>\n",
              "      <td>infracción</td>\n",
              "      <td>0</td>\n",
              "      <td>3</td>\n",
              "      <td>0</td>\n",
              "    </tr>\n",
              "    <tr>\n",
              "      <th>4</th>\n",
              "      <td>13</td>\n",
              "      <td>Masculino</td>\n",
              "      <td>40</td>\n",
              "      <td>personal</td>\n",
              "      <td>infracción</td>\n",
              "      <td>0</td>\n",
              "      <td>2</td>\n",
              "      <td>0</td>\n",
              "    </tr>\n",
              "  </tbody>\n",
              "</table>\n",
              "</div>"
            ],
            "text/plain": [
              "   hora       sexo  edad  ... fac_tipo fac_canal  fac_sexo\n",
              "0     0  Masculino    24  ...        0         0         0\n",
              "1    23   Femenino    59  ...        1         1         1\n",
              "2     9   Femenino    71  ...        2         2         1\n",
              "3    24  Masculino    23  ...        0         3         0\n",
              "4    13  Masculino    40  ...        0         2         0\n",
              "\n",
              "[5 rows x 8 columns]"
            ]
          },
          "metadata": {
            "tags": []
          },
          "execution_count": 7
        }
      ]
    },
    {
      "cell_type": "code",
      "metadata": {
        "id": "d5Fr4cPq2Eh4",
        "outputId": "e03d1bfa-4de5-4eed-b905-638e6ffa311f",
        "colab": {
          "base_uri": "https://localhost:8080/",
          "height": 191
        }
      },
      "source": [
        "data100 = data.drop(['sexo', 'edad', 'canal', 'tipo'], axis=1)\n",
        "data100.head()"
      ],
      "execution_count": 8,
      "outputs": [
        {
          "output_type": "execute_result",
          "data": {
            "text/html": [
              "<div>\n",
              "<style scoped>\n",
              "    .dataframe tbody tr th:only-of-type {\n",
              "        vertical-align: middle;\n",
              "    }\n",
              "\n",
              "    .dataframe tbody tr th {\n",
              "        vertical-align: top;\n",
              "    }\n",
              "\n",
              "    .dataframe thead th {\n",
              "        text-align: right;\n",
              "    }\n",
              "</style>\n",
              "<table border=\"1\" class=\"dataframe\">\n",
              "  <thead>\n",
              "    <tr style=\"text-align: right;\">\n",
              "      <th></th>\n",
              "      <th>hora</th>\n",
              "      <th>fac_tipo</th>\n",
              "      <th>fac_canal</th>\n",
              "      <th>fac_sexo</th>\n",
              "    </tr>\n",
              "  </thead>\n",
              "  <tbody>\n",
              "    <tr>\n",
              "      <th>0</th>\n",
              "      <td>0</td>\n",
              "      <td>0</td>\n",
              "      <td>0</td>\n",
              "      <td>0</td>\n",
              "    </tr>\n",
              "    <tr>\n",
              "      <th>1</th>\n",
              "      <td>23</td>\n",
              "      <td>1</td>\n",
              "      <td>1</td>\n",
              "      <td>1</td>\n",
              "    </tr>\n",
              "    <tr>\n",
              "      <th>2</th>\n",
              "      <td>9</td>\n",
              "      <td>2</td>\n",
              "      <td>2</td>\n",
              "      <td>1</td>\n",
              "    </tr>\n",
              "    <tr>\n",
              "      <th>3</th>\n",
              "      <td>24</td>\n",
              "      <td>0</td>\n",
              "      <td>3</td>\n",
              "      <td>0</td>\n",
              "    </tr>\n",
              "    <tr>\n",
              "      <th>4</th>\n",
              "      <td>13</td>\n",
              "      <td>0</td>\n",
              "      <td>2</td>\n",
              "      <td>0</td>\n",
              "    </tr>\n",
              "  </tbody>\n",
              "</table>\n",
              "</div>"
            ],
            "text/plain": [
              "   hora  fac_tipo  fac_canal  fac_sexo\n",
              "0     0         0          0         0\n",
              "1    23         1          1         1\n",
              "2     9         2          2         1\n",
              "3    24         0          3         0\n",
              "4    13         0          2         0"
            ]
          },
          "metadata": {
            "tags": []
          },
          "execution_count": 8
        }
      ]
    },
    {
      "cell_type": "code",
      "metadata": {
        "id": "k_rRr8Vg32FN",
        "outputId": "6a62d354-c278-4091-b019-3f76da134d31",
        "colab": {
          "base_uri": "https://localhost:8080/",
          "height": 191
        }
      },
      "source": [
        "X = data100.drop(['fac_tipo'], axis=1)\n",
        "X.head()"
      ],
      "execution_count": 9,
      "outputs": [
        {
          "output_type": "execute_result",
          "data": {
            "text/html": [
              "<div>\n",
              "<style scoped>\n",
              "    .dataframe tbody tr th:only-of-type {\n",
              "        vertical-align: middle;\n",
              "    }\n",
              "\n",
              "    .dataframe tbody tr th {\n",
              "        vertical-align: top;\n",
              "    }\n",
              "\n",
              "    .dataframe thead th {\n",
              "        text-align: right;\n",
              "    }\n",
              "</style>\n",
              "<table border=\"1\" class=\"dataframe\">\n",
              "  <thead>\n",
              "    <tr style=\"text-align: right;\">\n",
              "      <th></th>\n",
              "      <th>hora</th>\n",
              "      <th>fac_canal</th>\n",
              "      <th>fac_sexo</th>\n",
              "    </tr>\n",
              "  </thead>\n",
              "  <tbody>\n",
              "    <tr>\n",
              "      <th>0</th>\n",
              "      <td>0</td>\n",
              "      <td>0</td>\n",
              "      <td>0</td>\n",
              "    </tr>\n",
              "    <tr>\n",
              "      <th>1</th>\n",
              "      <td>23</td>\n",
              "      <td>1</td>\n",
              "      <td>1</td>\n",
              "    </tr>\n",
              "    <tr>\n",
              "      <th>2</th>\n",
              "      <td>9</td>\n",
              "      <td>2</td>\n",
              "      <td>1</td>\n",
              "    </tr>\n",
              "    <tr>\n",
              "      <th>3</th>\n",
              "      <td>24</td>\n",
              "      <td>3</td>\n",
              "      <td>0</td>\n",
              "    </tr>\n",
              "    <tr>\n",
              "      <th>4</th>\n",
              "      <td>13</td>\n",
              "      <td>2</td>\n",
              "      <td>0</td>\n",
              "    </tr>\n",
              "  </tbody>\n",
              "</table>\n",
              "</div>"
            ],
            "text/plain": [
              "   hora  fac_canal  fac_sexo\n",
              "0     0          0         0\n",
              "1    23          1         1\n",
              "2     9          2         1\n",
              "3    24          3         0\n",
              "4    13          2         0"
            ]
          },
          "metadata": {
            "tags": []
          },
          "execution_count": 9
        }
      ]
    },
    {
      "cell_type": "code",
      "metadata": {
        "id": "9csEVbM8n1Jj",
        "outputId": "c619275f-87df-415b-8d77-4b3aaf5adb73",
        "colab": {
          "base_uri": "https://localhost:8080/",
          "height": 33
        }
      },
      "source": [
        "from sklearn.preprocessing import Normalizer, MinMaxScaler\n",
        "transf = MinMaxScaler().fit(np.array(X))\n",
        "X_tr = transf.transform(X)\n",
        "X_tr.shape"
      ],
      "execution_count": 10,
      "outputs": [
        {
          "output_type": "execute_result",
          "data": {
            "text/plain": [
              "(50, 3)"
            ]
          },
          "metadata": {
            "tags": []
          },
          "execution_count": 10
        }
      ]
    },
    {
      "cell_type": "code",
      "metadata": {
        "id": "U_Sx5C-wqv6O",
        "outputId": "838abc6e-3130-4256-f34b-bd2f7fde831d",
        "colab": {
          "base_uri": "https://localhost:8080/",
          "height": 98
        }
      },
      "source": [
        "X_tr[0:5]"
      ],
      "execution_count": 11,
      "outputs": [
        {
          "output_type": "execute_result",
          "data": {
            "text/plain": [
              "array([[0.        , 0.        , 0.        ],\n",
              "       [0.95833333, 0.33333333, 1.        ],\n",
              "       [0.375     , 0.66666667, 1.        ],\n",
              "       [1.        , 1.        , 0.        ],\n",
              "       [0.54166667, 0.66666667, 0.        ]])"
            ]
          },
          "metadata": {
            "tags": []
          },
          "execution_count": 11
        }
      ]
    },
    {
      "cell_type": "code",
      "metadata": {
        "id": "I07QjR8u3mmC",
        "outputId": "c32da831-3cb7-4303-ba3c-86713f79527a",
        "colab": {
          "base_uri": "https://localhost:8080/",
          "height": 33
        }
      },
      "source": [
        "fac_tipo[1]"
      ],
      "execution_count": 12,
      "outputs": [
        {
          "output_type": "execute_result",
          "data": {
            "text/plain": [
              "Index(['infracción', 'robo', 'violencia', 'agresión sexual'], dtype='object')"
            ]
          },
          "metadata": {
            "tags": []
          },
          "execution_count": 12
        }
      ]
    },
    {
      "cell_type": "code",
      "metadata": {
        "id": "bDASuiHQ0pFj",
        "outputId": "42e33de3-bc8f-4f4d-eaed-32272514982b",
        "colab": {
          "base_uri": "https://localhost:8080/",
          "height": 66
        }
      },
      "source": [
        "y_tr = fac_tipo[0]\n",
        "y_tr"
      ],
      "execution_count": 14,
      "outputs": [
        {
          "output_type": "execute_result",
          "data": {
            "text/plain": [
              "array([0, 1, 2, 0, 0, 1, 2, 3, 0, 3, 2, 1, 1, 0, 1, 1, 0, 2, 3, 0, 2, 2,\n",
              "       1, 2, 2, 2, 1, 0, 0, 1, 1, 1, 3, 0, 0, 2, 2, 3, 2, 2, 3, 3, 0, 3,\n",
              "       3, 2, 1, 2, 3, 2])"
            ]
          },
          "metadata": {
            "tags": []
          },
          "execution_count": 14
        }
      ]
    },
    {
      "cell_type": "markdown",
      "metadata": {
        "id": "wR96DNNymGvc"
      },
      "source": [
        "### Modelo por Regresión Lineal Multivariable"
      ]
    },
    {
      "cell_type": "code",
      "metadata": {
        "id": "gY6Ft1TG3ULx",
        "outputId": "10254f64-99a7-4ab7-dac2-f80d28966b35",
        "colab": {
          "base_uri": "https://localhost:8080/",
          "height": 33
        }
      },
      "source": [
        "modelo = LinearRegression().fit(X_tr, y_tr)\n",
        "modelo.coef_"
      ],
      "execution_count": 15,
      "outputs": [
        {
          "output_type": "execute_result",
          "data": {
            "text/plain": [
              "array([-0.12429916, -0.54936135,  0.56337388])"
            ]
          },
          "metadata": {
            "tags": []
          },
          "execution_count": 15
        }
      ]
    },
    {
      "cell_type": "code",
      "metadata": {
        "id": "lb5Hvyrk1Qps",
        "outputId": "95fa3c25-aef5-4e65-fc16-3d7cf4643dc8",
        "colab": {
          "base_uri": "https://localhost:8080/",
          "height": 191
        }
      },
      "source": [
        "data['predic'] = modelo.predict(X_tr)\n",
        "data.head()"
      ],
      "execution_count": 17,
      "outputs": [
        {
          "output_type": "execute_result",
          "data": {
            "text/html": [
              "<div>\n",
              "<style scoped>\n",
              "    .dataframe tbody tr th:only-of-type {\n",
              "        vertical-align: middle;\n",
              "    }\n",
              "\n",
              "    .dataframe tbody tr th {\n",
              "        vertical-align: top;\n",
              "    }\n",
              "\n",
              "    .dataframe thead th {\n",
              "        text-align: right;\n",
              "    }\n",
              "</style>\n",
              "<table border=\"1\" class=\"dataframe\">\n",
              "  <thead>\n",
              "    <tr style=\"text-align: right;\">\n",
              "      <th></th>\n",
              "      <th>hora</th>\n",
              "      <th>sexo</th>\n",
              "      <th>edad</th>\n",
              "      <th>canal</th>\n",
              "      <th>tipo</th>\n",
              "      <th>fac_tipo</th>\n",
              "      <th>fac_canal</th>\n",
              "      <th>fac_sexo</th>\n",
              "      <th>predic</th>\n",
              "    </tr>\n",
              "  </thead>\n",
              "  <tbody>\n",
              "    <tr>\n",
              "      <th>0</th>\n",
              "      <td>0</td>\n",
              "      <td>Masculino</td>\n",
              "      <td>24</td>\n",
              "      <td>teléfono</td>\n",
              "      <td>infracción</td>\n",
              "      <td>0</td>\n",
              "      <td>0</td>\n",
              "      <td>0</td>\n",
              "      <td>1.544021</td>\n",
              "    </tr>\n",
              "    <tr>\n",
              "      <th>1</th>\n",
              "      <td>23</td>\n",
              "      <td>Femenino</td>\n",
              "      <td>59</td>\n",
              "      <td>efectivo</td>\n",
              "      <td>robo</td>\n",
              "      <td>1</td>\n",
              "      <td>1</td>\n",
              "      <td>1</td>\n",
              "      <td>1.805154</td>\n",
              "    </tr>\n",
              "    <tr>\n",
              "      <th>2</th>\n",
              "      <td>9</td>\n",
              "      <td>Femenino</td>\n",
              "      <td>71</td>\n",
              "      <td>personal</td>\n",
              "      <td>violencia</td>\n",
              "      <td>2</td>\n",
              "      <td>2</td>\n",
              "      <td>1</td>\n",
              "      <td>1.694542</td>\n",
              "    </tr>\n",
              "    <tr>\n",
              "      <th>3</th>\n",
              "      <td>24</td>\n",
              "      <td>Masculino</td>\n",
              "      <td>23</td>\n",
              "      <td>formulario web</td>\n",
              "      <td>infracción</td>\n",
              "      <td>0</td>\n",
              "      <td>3</td>\n",
              "      <td>0</td>\n",
              "      <td>0.870360</td>\n",
              "    </tr>\n",
              "    <tr>\n",
              "      <th>4</th>\n",
              "      <td>13</td>\n",
              "      <td>Masculino</td>\n",
              "      <td>40</td>\n",
              "      <td>personal</td>\n",
              "      <td>infracción</td>\n",
              "      <td>0</td>\n",
              "      <td>2</td>\n",
              "      <td>0</td>\n",
              "      <td>1.110451</td>\n",
              "    </tr>\n",
              "  </tbody>\n",
              "</table>\n",
              "</div>"
            ],
            "text/plain": [
              "   hora       sexo  edad  ... fac_canal fac_sexo    predic\n",
              "0     0  Masculino    24  ...         0        0  1.544021\n",
              "1    23   Femenino    59  ...         1        1  1.805154\n",
              "2     9   Femenino    71  ...         2        1  1.694542\n",
              "3    24  Masculino    23  ...         3        0  0.870360\n",
              "4    13  Masculino    40  ...         2        0  1.110451\n",
              "\n",
              "[5 rows x 9 columns]"
            ]
          },
          "metadata": {
            "tags": []
          },
          "execution_count": 17
        }
      ]
    },
    {
      "cell_type": "code",
      "metadata": {
        "id": "4y7E7i_62Dv9",
        "outputId": "be6d8130-a2b8-43fc-9b6d-1a5ee64057c2",
        "colab": {
          "base_uri": "https://localhost:8080/",
          "height": 281
        }
      },
      "source": [
        "data.predic.hist(bins=100)"
      ],
      "execution_count": 20,
      "outputs": [
        {
          "output_type": "execute_result",
          "data": {
            "text/plain": [
              "<matplotlib.axes._subplots.AxesSubplot at 0x7f2a1bca1d68>"
            ]
          },
          "metadata": {
            "tags": []
          },
          "execution_count": 20
        },
        {
          "output_type": "display_data",
          "data": {
            "image/png": "[encoded data removed]",
            "text/plain": [
              "<Figure size 432x288 with 1 Axes>"
            ]
          },
          "metadata": {
            "tags": [],
            "needs_background": "light"
          }
        }
      ]
    },
    {
      "cell_type": "code",
      "metadata": {
        "id": "WTYSERYO4RaE",
        "outputId": "fdfa8ca2-7693-41d4-dab5-69ccbcedb9eb",
        "colab": {
          "base_uri": "https://localhost:8080/",
          "height": 407
        }
      },
      "source": [
        "fig, ax = plt.subplots(1, 1, figsize=(10, 6), facecolor='lightblue')\n",
        "ax.plot(data.fac_tipo, data.predic, 'ob')\n",
        "plt.ylabel('Predicción por Regresión Lineal')\n",
        "plt.xlabel('Valor Original')\n",
        "plt.title('Predicción por Regresión Lineal Multivariable', fontsize=16)\n",
        "plt.show()"
      ],
      "execution_count": 32,
      "outputs": [
        {
          "output_type": "display_data",
          "data": {
            "image/png": "[encoded data removed]",
            "text/plain": [
              "<Figure size 720x432 with 1 Axes>"
            ]
          },
          "metadata": {
            "tags": []
          }
        }
      ]
    },
    {
      "cell_type": "markdown",
      "metadata": {
        "id": "hzsLkW59mppr"
      },
      "source": [
        "### Modelo Regresión Logística"
      ]
    },
    {
      "cell_type": "code",
      "metadata": {
        "id": "tiFj_3aJ4gW-"
      },
      "source": [
        "modelo = LogisticRegression().fit(X_tr, y_tr)"
      ],
      "execution_count": 26,
      "outputs": []
    },
    {
      "cell_type": "code",
      "metadata": {
        "id": "hPvUxDgy44le",
        "outputId": "befe67ab-8843-4df8-c94a-c1fe3e4d2205",
        "colab": {
          "base_uri": "https://localhost:8080/",
          "height": 66
        }
      },
      "source": [
        "modelo.predict(X_tr)"
      ],
      "execution_count": 28,
      "outputs": [
        {
          "output_type": "execute_result",
          "data": {
            "text/plain": [
              "array([2, 3, 3, 0, 2, 2, 2, 3, 0, 3, 0, 0, 0, 3, 2, 3, 3, 2, 0, 0, 0, 0,\n",
              "       3, 3, 2, 2, 2, 2, 2, 2, 2, 3, 3, 3, 2, 2, 2, 3, 2, 3, 3, 2, 2, 3,\n",
              "       3, 2, 3, 3, 2, 2])"
            ]
          },
          "metadata": {
            "tags": []
          },
          "execution_count": 28
        }
      ]
    },
    {
      "cell_type": "code",
      "metadata": {
        "id": "ToHBO4iV5Gn0"
      },
      "source": [
        "data['LG_predic'] = modelo.predict(X_tr)"
      ],
      "execution_count": 29,
      "outputs": []
    },
    {
      "cell_type": "code",
      "metadata": {
        "id": "WFUJvrAA57Qk"
      },
      "source": [
        "data['jitter'] = np.random.rand(len(data))"
      ],
      "execution_count": 34,
      "outputs": []
    },
    {
      "cell_type": "code",
      "metadata": {
        "id": "ALJR6EwA5R06",
        "outputId": "6b3e4868-dd10-4474-f54b-dd6784f10fa8",
        "colab": {
          "base_uri": "https://localhost:8080/",
          "height": 407
        }
      },
      "source": [
        "fig, ax = plt.subplots(1, 1, figsize=(10, 6), facecolor='lightblue')\n",
        "ax.plot(data.fac_tipo+data.jitter/3, data.LG_predic+data.jitter/3, 'ob')\n",
        "plt.ylabel('Predicción por Clasificación Logística')\n",
        "plt.xlabel('Valor Original')\n",
        "plt.title('Predicción por Clasificación/Regresión Logística', fontsize=16)\n",
        "plt.show()"
      ],
      "execution_count": 35,
      "outputs": [
        {
          "output_type": "display_data",
          "data": {
            "image/png": "[encoded data removed]",
            "text/plain": [
              "<Figure size 720x432 with 1 Axes>"
            ]
          },
          "metadata": {
            "tags": []
          }
        }
      ]
    }
  ]
}